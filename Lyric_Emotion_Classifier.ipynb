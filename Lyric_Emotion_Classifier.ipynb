{
 "cells": [
  {
   "cell_type": "markdown",
   "metadata": {
    "id": "eIp7lnlUb9Bp"
   },
   "source": [
    "**📦 Importing Required Libraries and Dependencies**\n",
    "----"
   ]
  },
  {
   "cell_type": "code",
   "execution_count": null,
   "metadata": {
    "executionInfo": {
     "elapsed": 4589,
     "status": "ok",
     "timestamp": 1751018739586,
     "user": {
      "displayName": "RNG Gesus",
      "userId": "12959870546117851803"
     },
     "user_tz": -180
    },
    "id": "uzO9fUTRnyic",
    "outputId": "bb6d10f8-9bc8-4f3b-fa0f-937c5ff407b5"
   },
   "outputs": [
    {
     "name": "stdout",
     "output_type": "stream",
     "text": [
      "Requirement already satisfied: transformers in /usr/local/lib/python3.11/dist-packages (4.52.4)\n",
      "Requirement already satisfied: datasets in /usr/local/lib/python3.11/dist-packages (3.6.0)\n",
      "Requirement already satisfied: scikit-learn in /usr/local/lib/python3.11/dist-packages (1.6.1)\n",
      "Requirement already satisfied: torch in /usr/local/lib/python3.11/dist-packages (2.6.0+cu124)\n",
      "Requirement already satisfied: filelock in /usr/local/lib/python3.11/dist-packages (from transformers) (3.18.0)\n",
      "Requirement already satisfied: huggingface-hub<1.0,>=0.30.0 in /usr/local/lib/python3.11/dist-packages (from transformers) (0.33.0)\n",
      "Requirement already satisfied: numpy>=1.17 in /usr/local/lib/python3.11/dist-packages (from transformers) (2.0.2)\n",
      "Requirement already satisfied: packaging>=20.0 in /usr/local/lib/python3.11/dist-packages (from transformers) (24.2)\n",
      "Requirement already satisfied: pyyaml>=5.1 in /usr/local/lib/python3.11/dist-packages (from transformers) (6.0.2)\n",
      "Requirement already satisfied: regex!=2019.12.17 in /usr/local/lib/python3.11/dist-packages (from transformers) (2024.11.6)\n",
      "Requirement already satisfied: requests in /usr/local/lib/python3.11/dist-packages (from transformers) (2.32.3)\n",
      "Requirement already satisfied: tokenizers<0.22,>=0.21 in /usr/local/lib/python3.11/dist-packages (from transformers) (0.21.1)\n",
      "Requirement already satisfied: safetensors>=0.4.3 in /usr/local/lib/python3.11/dist-packages (from transformers) (0.5.3)\n",
      "Requirement already satisfied: tqdm>=4.27 in /usr/local/lib/python3.11/dist-packages (from transformers) (4.67.1)\n",
      "Requirement already satisfied: pyarrow>=15.0.0 in /usr/local/lib/python3.11/dist-packages (from datasets) (18.1.0)\n",
      "Requirement already satisfied: dill<0.3.9,>=0.3.0 in /usr/local/lib/python3.11/dist-packages (from datasets) (0.3.7)\n",
      "Requirement already satisfied: pandas in /usr/local/lib/python3.11/dist-packages (from datasets) (2.2.2)\n",
      "Requirement already satisfied: xxhash in /usr/local/lib/python3.11/dist-packages (from datasets) (3.5.0)\n",
      "Requirement already satisfied: multiprocess<0.70.17 in /usr/local/lib/python3.11/dist-packages (from datasets) (0.70.15)\n",
      "Requirement already satisfied: fsspec<=2025.3.0,>=2023.1.0 in /usr/local/lib/python3.11/dist-packages (from fsspec[http]<=2025.3.0,>=2023.1.0->datasets) (2025.3.0)\n",
      "Requirement already satisfied: scipy>=1.6.0 in /usr/local/lib/python3.11/dist-packages (from scikit-learn) (1.15.3)\n",
      "Requirement already satisfied: joblib>=1.2.0 in /usr/local/lib/python3.11/dist-packages (from scikit-learn) (1.5.1)\n",
      "Requirement already satisfied: threadpoolctl>=3.1.0 in /usr/local/lib/python3.11/dist-packages (from scikit-learn) (3.6.0)\n",
      "Requirement already satisfied: typing-extensions>=4.10.0 in /usr/local/lib/python3.11/dist-packages (from torch) (4.14.0)\n",
      "Requirement already satisfied: networkx in /usr/local/lib/python3.11/dist-packages (from torch) (3.5)\n",
      "Requirement already satisfied: jinja2 in /usr/local/lib/python3.11/dist-packages (from torch) (3.1.6)\n",
      "Requirement already satisfied: nvidia-cuda-nvrtc-cu12==12.4.127 in /usr/local/lib/python3.11/dist-packages (from torch) (12.4.127)\n",
      "Requirement already satisfied: nvidia-cuda-runtime-cu12==12.4.127 in /usr/local/lib/python3.11/dist-packages (from torch) (12.4.127)\n",
      "Requirement already satisfied: nvidia-cuda-cupti-cu12==12.4.127 in /usr/local/lib/python3.11/dist-packages (from torch) (12.4.127)\n",
      "Requirement already satisfied: nvidia-cudnn-cu12==9.1.0.70 in /usr/local/lib/python3.11/dist-packages (from torch) (9.1.0.70)\n",
      "Requirement already satisfied: nvidia-cublas-cu12==12.4.5.8 in /usr/local/lib/python3.11/dist-packages (from torch) (12.4.5.8)\n",
      "Requirement already satisfied: nvidia-cufft-cu12==11.2.1.3 in /usr/local/lib/python3.11/dist-packages (from torch) (11.2.1.3)\n",
      "Requirement already satisfied: nvidia-curand-cu12==10.3.5.147 in /usr/local/lib/python3.11/dist-packages (from torch) (10.3.5.147)\n",
      "Requirement already satisfied: nvidia-cusolver-cu12==11.6.1.9 in /usr/local/lib/python3.11/dist-packages (from torch) (11.6.1.9)\n",
      "Requirement already satisfied: nvidia-cusparse-cu12==12.3.1.170 in /usr/local/lib/python3.11/dist-packages (from torch) (12.3.1.170)\n",
      "Requirement already satisfied: nvidia-cusparselt-cu12==0.6.2 in /usr/local/lib/python3.11/dist-packages (from torch) (0.6.2)\n",
      "Requirement already satisfied: nvidia-nccl-cu12==2.21.5 in /usr/local/lib/python3.11/dist-packages (from torch) (2.21.5)\n",
      "Requirement already satisfied: nvidia-nvtx-cu12==12.4.127 in /usr/local/lib/python3.11/dist-packages (from torch) (12.4.127)\n",
      "Requirement already satisfied: nvidia-nvjitlink-cu12==12.4.127 in /usr/local/lib/python3.11/dist-packages (from torch) (12.4.127)\n",
      "Requirement already satisfied: triton==3.2.0 in /usr/local/lib/python3.11/dist-packages (from torch) (3.2.0)\n",
      "Requirement already satisfied: sympy==1.13.1 in /usr/local/lib/python3.11/dist-packages (from torch) (1.13.1)\n",
      "Requirement already satisfied: mpmath<1.4,>=1.1.0 in /usr/local/lib/python3.11/dist-packages (from sympy==1.13.1->torch) (1.3.0)\n",
      "Requirement already satisfied: aiohttp!=4.0.0a0,!=4.0.0a1 in /usr/local/lib/python3.11/dist-packages (from fsspec[http]<=2025.3.0,>=2023.1.0->datasets) (3.11.15)\n",
      "Requirement already satisfied: hf-xet<2.0.0,>=1.1.2 in /usr/local/lib/python3.11/dist-packages (from huggingface-hub<1.0,>=0.30.0->transformers) (1.1.5)\n",
      "Requirement already satisfied: charset-normalizer<4,>=2 in /usr/local/lib/python3.11/dist-packages (from requests->transformers) (3.4.2)\n",
      "Requirement already satisfied: idna<4,>=2.5 in /usr/local/lib/python3.11/dist-packages (from requests->transformers) (3.10)\n",
      "Requirement already satisfied: urllib3<3,>=1.21.1 in /usr/local/lib/python3.11/dist-packages (from requests->transformers) (2.4.0)\n",
      "Requirement already satisfied: certifi>=2017.4.17 in /usr/local/lib/python3.11/dist-packages (from requests->transformers) (2025.6.15)\n",
      "Requirement already satisfied: MarkupSafe>=2.0 in /usr/local/lib/python3.11/dist-packages (from jinja2->torch) (3.0.2)\n",
      "Requirement already satisfied: python-dateutil>=2.8.2 in /usr/local/lib/python3.11/dist-packages (from pandas->datasets) (2.9.0.post0)\n",
      "Requirement already satisfied: pytz>=2020.1 in /usr/local/lib/python3.11/dist-packages (from pandas->datasets) (2025.2)\n",
      "Requirement already satisfied: tzdata>=2022.7 in /usr/local/lib/python3.11/dist-packages (from pandas->datasets) (2025.2)\n",
      "Requirement already satisfied: aiohappyeyeballs>=2.3.0 in /usr/local/lib/python3.11/dist-packages (from aiohttp!=4.0.0a0,!=4.0.0a1->fsspec[http]<=2025.3.0,>=2023.1.0->datasets) (2.6.1)\n",
      "Requirement already satisfied: aiosignal>=1.1.2 in /usr/local/lib/python3.11/dist-packages (from aiohttp!=4.0.0a0,!=4.0.0a1->fsspec[http]<=2025.3.0,>=2023.1.0->datasets) (1.3.2)\n",
      "Requirement already satisfied: attrs>=17.3.0 in /usr/local/lib/python3.11/dist-packages (from aiohttp!=4.0.0a0,!=4.0.0a1->fsspec[http]<=2025.3.0,>=2023.1.0->datasets) (25.3.0)\n",
      "Requirement already satisfied: frozenlist>=1.1.1 in /usr/local/lib/python3.11/dist-packages (from aiohttp!=4.0.0a0,!=4.0.0a1->fsspec[http]<=2025.3.0,>=2023.1.0->datasets) (1.7.0)\n",
      "Requirement already satisfied: multidict<7.0,>=4.5 in /usr/local/lib/python3.11/dist-packages (from aiohttp!=4.0.0a0,!=4.0.0a1->fsspec[http]<=2025.3.0,>=2023.1.0->datasets) (6.5.0)\n",
      "Requirement already satisfied: propcache>=0.2.0 in /usr/local/lib/python3.11/dist-packages (from aiohttp!=4.0.0a0,!=4.0.0a1->fsspec[http]<=2025.3.0,>=2023.1.0->datasets) (0.3.2)\n",
      "Requirement already satisfied: yarl<2.0,>=1.17.0 in /usr/local/lib/python3.11/dist-packages (from aiohttp!=4.0.0a0,!=4.0.0a1->fsspec[http]<=2025.3.0,>=2023.1.0->datasets) (1.20.1)\n",
      "Requirement already satisfied: six>=1.5 in /usr/local/lib/python3.11/dist-packages (from python-dateutil>=2.8.2->pandas->datasets) (1.17.0)\n"
     ]
    }
   ],
   "source": [
    "#pip install transformers datasets scikit-learn torchss"
   ]
  },
  {
   "cell_type": "code",
   "execution_count": 1,
   "metadata": {
    "executionInfo": {
     "elapsed": 33463,
     "status": "ok",
     "timestamp": 1754671225643,
     "user": {
      "displayName": "Nir Voloshin",
      "userId": "14480127574732435947"
     },
     "user_tz": -180
    },
    "id": "rBZcYkN7nOd_"
   },
   "outputs": [],
   "source": [
    "# imports for the practice (you can add more if you need)\n",
    "import numpy as np\n",
    "import matplotlib.pyplot as plt\n",
    "import pandas as pd\n",
    "from sklearn.model_selection import train_test_split\n",
    "import time\n",
    "import os\n",
    "import math\n",
    "from typing import Tuple\n",
    "\n",
    "# pytorch\n",
    "import torch\n",
    "from torch import nn, Tensor\n",
    "import torch.nn.functional as F\n",
    "from torch.nn import TransformerEncoder, TransformerEncoderLayer\n",
    "from torch.utils.data import dataset\n",
    "\n",
    "# bert & datasets\n",
    "\n",
    "from datasets import load_dataset\n",
    "from transformers import BertTokenizer\n",
    "from transformers import BertForSequenceClassification"
   ]
  },
  {
   "cell_type": "code",
   "execution_count": null,
   "metadata": {
    "executionInfo": {
     "elapsed": 4513,
     "status": "ok",
     "timestamp": 1752941937699,
     "user": {
      "displayName": "RNG Gesus",
      "userId": "12959870546117851803"
     },
     "user_tz": -180
    },
    "id": "-GeQ5Aa_5vj5",
    "outputId": "a7ca43f0-faca-4d81-d6d7-a419d2c7d652"
   },
   "outputs": [
    {
     "name": "stdout",
     "output_type": "stream",
     "text": [
      "Requirement already satisfied: datasets in /usr/local/lib/python3.11/dist-packages (4.0.0)\n",
      "Requirement already satisfied: fsspec in /usr/local/lib/python3.11/dist-packages (2025.3.0)\n",
      "Collecting fsspec\n",
      "  Using cached fsspec-2025.7.0-py3-none-any.whl.metadata (12 kB)\n",
      "Requirement already satisfied: filelock in /usr/local/lib/python3.11/dist-packages (from datasets) (3.18.0)\n",
      "Requirement already satisfied: numpy>=1.17 in /usr/local/lib/python3.11/dist-packages (from datasets) (2.0.2)\n",
      "Requirement already satisfied: pyarrow>=15.0.0 in /usr/local/lib/python3.11/dist-packages (from datasets) (18.1.0)\n",
      "Requirement already satisfied: dill<0.3.9,>=0.3.0 in /usr/local/lib/python3.11/dist-packages (from datasets) (0.3.7)\n",
      "Requirement already satisfied: pandas in /usr/local/lib/python3.11/dist-packages (from datasets) (2.2.2)\n",
      "Requirement already satisfied: requests>=2.32.2 in /usr/local/lib/python3.11/dist-packages (from datasets) (2.32.3)\n",
      "Requirement already satisfied: tqdm>=4.66.3 in /usr/local/lib/python3.11/dist-packages (from datasets) (4.67.1)\n",
      "Requirement already satisfied: xxhash in /usr/local/lib/python3.11/dist-packages (from datasets) (3.5.0)\n",
      "Requirement already satisfied: multiprocess<0.70.17 in /usr/local/lib/python3.11/dist-packages (from datasets) (0.70.15)\n",
      "Requirement already satisfied: huggingface-hub>=0.24.0 in /usr/local/lib/python3.11/dist-packages (from datasets) (0.33.4)\n",
      "Requirement already satisfied: packaging in /usr/local/lib/python3.11/dist-packages (from datasets) (25.0)\n",
      "Requirement already satisfied: pyyaml>=5.1 in /usr/local/lib/python3.11/dist-packages (from datasets) (6.0.2)\n",
      "Requirement already satisfied: aiohttp!=4.0.0a0,!=4.0.0a1 in /usr/local/lib/python3.11/dist-packages (from fsspec[http]<=2025.3.0,>=2023.1.0->datasets) (3.11.15)\n",
      "Requirement already satisfied: typing-extensions>=3.7.4.3 in /usr/local/lib/python3.11/dist-packages (from huggingface-hub>=0.24.0->datasets) (4.14.1)\n",
      "Requirement already satisfied: hf-xet<2.0.0,>=1.1.2 in /usr/local/lib/python3.11/dist-packages (from huggingface-hub>=0.24.0->datasets) (1.1.5)\n",
      "Requirement already satisfied: charset-normalizer<4,>=2 in /usr/local/lib/python3.11/dist-packages (from requests>=2.32.2->datasets) (3.4.2)\n",
      "Requirement already satisfied: idna<4,>=2.5 in /usr/local/lib/python3.11/dist-packages (from requests>=2.32.2->datasets) (3.10)\n",
      "Requirement already satisfied: urllib3<3,>=1.21.1 in /usr/local/lib/python3.11/dist-packages (from requests>=2.32.2->datasets) (2.4.0)\n",
      "Requirement already satisfied: certifi>=2017.4.17 in /usr/local/lib/python3.11/dist-packages (from requests>=2.32.2->datasets) (2025.7.14)\n",
      "Requirement already satisfied: python-dateutil>=2.8.2 in /usr/local/lib/python3.11/dist-packages (from pandas->datasets) (2.9.0.post0)\n",
      "Requirement already satisfied: pytz>=2020.1 in /usr/local/lib/python3.11/dist-packages (from pandas->datasets) (2025.2)\n",
      "Requirement already satisfied: tzdata>=2022.7 in /usr/local/lib/python3.11/dist-packages (from pandas->datasets) (2025.2)\n",
      "Requirement already satisfied: aiohappyeyeballs>=2.3.0 in /usr/local/lib/python3.11/dist-packages (from aiohttp!=4.0.0a0,!=4.0.0a1->fsspec[http]<=2025.3.0,>=2023.1.0->datasets) (2.6.1)\n",
      "Requirement already satisfied: aiosignal>=1.1.2 in /usr/local/lib/python3.11/dist-packages (from aiohttp!=4.0.0a0,!=4.0.0a1->fsspec[http]<=2025.3.0,>=2023.1.0->datasets) (1.4.0)\n",
      "Requirement already satisfied: attrs>=17.3.0 in /usr/local/lib/python3.11/dist-packages (from aiohttp!=4.0.0a0,!=4.0.0a1->fsspec[http]<=2025.3.0,>=2023.1.0->datasets) (25.3.0)\n",
      "Requirement already satisfied: frozenlist>=1.1.1 in /usr/local/lib/python3.11/dist-packages (from aiohttp!=4.0.0a0,!=4.0.0a1->fsspec[http]<=2025.3.0,>=2023.1.0->datasets) (1.7.0)\n",
      "Requirement already satisfied: multidict<7.0,>=4.5 in /usr/local/lib/python3.11/dist-packages (from aiohttp!=4.0.0a0,!=4.0.0a1->fsspec[http]<=2025.3.0,>=2023.1.0->datasets) (6.6.3)\n",
      "Requirement already satisfied: propcache>=0.2.0 in /usr/local/lib/python3.11/dist-packages (from aiohttp!=4.0.0a0,!=4.0.0a1->fsspec[http]<=2025.3.0,>=2023.1.0->datasets) (0.3.2)\n",
      "Requirement already satisfied: yarl<2.0,>=1.17.0 in /usr/local/lib/python3.11/dist-packages (from aiohttp!=4.0.0a0,!=4.0.0a1->fsspec[http]<=2025.3.0,>=2023.1.0->datasets) (1.20.1)\n",
      "Requirement already satisfied: six>=1.5 in /usr/local/lib/python3.11/dist-packages (from python-dateutil>=2.8.2->pandas->datasets) (1.17.0)\n"
     ]
    }
   ],
   "source": [
    "!pip install --upgrade datasets fsspec"
   ]
  },
  {
   "cell_type": "markdown",
   "metadata": {
    "id": "CxSl1u4tvaf6"
   },
   "source": [
    "Organizing Data\n",
    "-----"
   ]
  },
  {
   "cell_type": "code",
   "execution_count": 3,
   "metadata": {
    "executionInfo": {
     "elapsed": 23639,
     "status": "ok",
     "timestamp": 1754671263925,
     "user": {
      "displayName": "Nir Voloshin",
      "userId": "14480127574732435947"
     },
     "user_tz": -180
    },
    "id": "t1NVT9fcoDgb",
    "outputId": "25b0e090-9c24-4d8c-c6ac-f3bede6c1dbb"
   },
   "outputs": [
    {
     "name": "stdout",
     "output_type": "stream",
     "text": [
      "Mounted at /content/drive\n",
      "Files in directory:\n",
      "  'labeled_lyrics_cleaned.csv'\n",
      "  'english_lyrics.csv'\n",
      "  'english_lyrics_new.csv'\n",
      "  'train_finet_.csv'\n",
      "  'val_finet_.csv'\n",
      "  'test_finet_.csv'\n",
      "  'tokenized_dataset_'\n"
     ]
    }
   ],
   "source": [
    "# Loading dataset\n",
    "\n",
    "from google.colab import drive\n",
    "import os\n",
    "\n",
    "drive.mount('/content/drive')\n",
    "data_path = \"/content/drive/MyDrive/Deep_Learning/project/data\"\n",
    "print(\"Files in directory:\")\n",
    "for file in os.listdir(data_path):\n",
    "    print(f\"  '{file}'\")\n",
    "#df = pd.read_csv(os.path.join(data_path, 'english_lyrics.csv'))\n",
    "df = pd.read_csv(os.path.join(data_path, 'english_lyrics_new.csv'))"
   ]
  },
  {
   "cell_type": "markdown",
   "metadata": {
    "id": "N5mEomYccejb"
   },
   "source": [
    "**🎵 Quantizing Valence Scores into Mood Categories**\n",
    "----\n",
    "This code is from an **earlier attempt** to classify song lyrics into discrete mood categories.  \n",
    "In that experiment, the dataset provided **valence** as a continuous score in the range [0, 1],  \n",
    "and we mapped it into **four classes** — *Sad*, *Calm*, *Content*, and *Happy* — to frame the problem as classification instead of regression.  \n",
    "\n",
    "**Note:** This step is part of a **previous approach** and is **not needed for the current workflow**, so theres no need to run it now."
   ]
  },
  {
   "cell_type": "code",
   "execution_count": null,
   "metadata": {
    "executionInfo": {
     "elapsed": 42,
     "status": "ok",
     "timestamp": 1751992943929,
     "user": {
      "displayName": "Nir Voloshin",
      "userId": "14480127574732435947"
     },
     "user_tz": -180
    },
    "id": "3FtFcOA8sTnE",
    "outputId": "0515a52e-94c6-4931-8352-0c247e4297a2"
   },
   "outputs": [
    {
     "name": "stdout",
     "output_type": "stream",
     "text": [
      "3857      0.5700\n",
      "38954     0.0893\n",
      "32524     0.7140\n",
      "138455    0.4730\n",
      "53519     0.6200\n",
      "95361     0.5050\n",
      "112696    0.3320\n",
      "69068     0.3830\n",
      "55679     0.2360\n",
      "146428    0.3810\n",
      "2739      0.3630\n",
      "7012      0.2120\n",
      "40943     0.0828\n",
      "27723     0.2160\n",
      "105717    0.1880\n",
      "97884     0.4750\n",
      "130138    0.8890\n",
      "52130     0.1970\n",
      "113100    0.4040\n",
      "122251    0.6490\n",
      "12201     0.1820\n",
      "5452      0.8310\n",
      "4232      0.9490\n",
      "110936    0.3610\n",
      "135685    0.5970\n",
      "38393     0.9400\n",
      "74378     0.5520\n",
      "98728     0.3200\n",
      "113911    0.8710\n",
      "73086     0.8110\n",
      "47400     0.8760\n",
      "28790     0.3750\n",
      "12800     0.3490\n",
      "102907    0.3140\n",
      "102440    0.4500\n",
      "96234     0.3400\n",
      "115076    0.0560\n",
      "130740    0.6280\n",
      "94800     0.8920\n",
      "18994     0.4480\n",
      "23231     0.3210\n",
      "74595     0.5410\n",
      "144480    0.5100\n",
      "6175      0.1060\n",
      "113642    0.2530\n",
      "107990    0.7510\n",
      "86668     0.6940\n",
      "53771     0.3790\n",
      "22229     0.2810\n",
      "135493    0.8770\n",
      "Name: label, dtype: float64\n"
     ]
    }
   ],
   "source": [
    "# Converting float target to class ID (for classification task)\n",
    "'''\n",
    "NUM_CLASSES = 4\n",
    "\n",
    "def valence_to_class(val):\n",
    "    if val <= 0.25:   # sad\n",
    "        return 0\n",
    "    elif val <= 0.5:  # calm\n",
    "        return 1\n",
    "    elif val <= 0.75: # content\n",
    "        return 2\n",
    "    else:             # happy\n",
    "        return 3\n",
    "\n",
    "\n",
    "class_labels = ['Sad', 'Calm', 'Content', 'Happy']\n",
    "\n",
    "df['class'] = df['label'].apply(valence_to_class)\n",
    "\n",
    "\n",
    "#print(type(df['label'][0]))\n",
    "print(df['class'].sample(50))\n",
    "'''\n",
    "print(df['label'].sample(50))"
   ]
  },
  {
   "cell_type": "markdown",
   "metadata": {
    "id": "wK3kPv4qc-Wt"
   },
   "source": [
    "**Past Experiment of Creating a Balanced Subset of Data**\n",
    "\n",
    "This code comes from an **earlier workflow** where we tried balancing the dataset  \n",
    "by sampling an equal number of entries from each mood category.  \n",
    "The idea was to avoid class imbalance and ensure each label was equally represented  \n",
    "(5,000 samples per class in this example).  \n",
    "\n",
    "For the **current pipeline**, the class-balancing loop above is not required.  \n",
    "However, the final line that samples `df_subset` with `random_state` is **still used**  \n",
    "to create a reproducible random subset of the data for training."
   ]
  },
  {
   "cell_type": "code",
   "execution_count": null,
   "metadata": {
    "id": "EqOg_nbhnsE8"
   },
   "outputs": [],
   "source": [
    "#################################################################################################################################\n",
    "######################################################### no need to run ########################################################\n",
    "#################################################################################################################################\n",
    "\n",
    "# Cutting data into balanced subset - 156K --> 20K\n",
    "'''\n",
    "# Number of samples per class\n",
    "n_per_class = 5000\n",
    "\n",
    "# Sample 5,000 from each class\n",
    "dfs = []\n",
    "for label,_ in enumerate(class_labels):\n",
    "    class_subset = df[df['class'] == label].sample(n=n_per_class, random_state=42)\n",
    "    dfs.append(class_subset)\n",
    "\n",
    "# Combine and shuffle\n",
    "df_balanced = pd.concat(dfs).sample(frac=1, random_state=42).reset_index(drop=True)\n",
    "\n",
    "print(df_balanced['class'].value_counts())\n",
    "print(len(df_balanced))  # Should be 30,000\n",
    "'''\n",
    "\n",
    "df_subset = df.sample(n=30000, random_state=42).reset_index(drop=True)  # set random_state for reproducibility"
   ]
  },
  {
   "cell_type": "markdown",
   "metadata": {
    "id": "URoJ71nfeqMX"
   },
   "source": [
    "**📂 Train / Validation / Test Split Generation**\n",
    "----\n",
    "This section is responsible for splitting the dataset into **train**, **validation**, and **test** sets,  \n",
    "and saving them as CSV files for later use.\n",
    "\n",
    "This only needs to be run **once per dataset** to generate the CSV split files.  \n",
    "After the CSVs are created, we can simply load them in later sections instead of re-running the split.  \n",
    "The commented-out block above was for the old `df_balanced` approach,  \n",
    "while the active code below works with the current `df_subset`."
   ]
  },
  {
   "cell_type": "code",
   "execution_count": null,
   "metadata": {
    "executionInfo": {
     "elapsed": 4110,
     "status": "ok",
     "timestamp": 1751994055021,
     "user": {
      "displayName": "Nir Voloshin",
      "userId": "14480127574732435947"
     },
     "user_tz": -180
    },
    "id": "pRZD9uwDv-_r",
    "outputId": "5c417248-404f-498c-9447-e1aa7bf0c226"
   },
   "outputs": [
    {
     "name": "stdout",
     "output_type": "stream",
     "text": [
      "/content\n"
     ]
    }
   ],
   "source": [
    "#################################################################################################################################\n",
    "################################ no need to run, we can just load in the next section ###########################################\n",
    "#################################################################################################################################\n",
    "\n",
    "# Splitting to train, val and test\n",
    "'''\n",
    "df_train, df_temp = train_test_split(df_balanced, test_size=0.2, stratify=df_balanced['class'], random_state=42)\n",
    "df_val, df_test = train_test_split(df_temp, test_size=0.5, stratify=df_temp['class'], random_state=42)\n",
    "# Save splits to CSV\n",
    "df_train.to_csv(os.path.join(data_path, 'train_finet.csv'), index=False)\n",
    "df_val.to_csv(os.path.join(data_path, 'val_finet.csv'), index=False)\n",
    "df_test.to_csv(os.path.join(data_path, 'test_finet.csv'), index=False)\n",
    "print(os.getcwd())\n",
    "'''\n",
    "df_train, df_temp = train_test_split(df_subset, test_size=0.2, random_state=42)\n",
    "df_val, df_test = train_test_split(df_temp, test_size=0.5, random_state=42)\n",
    "# Save splits to CSV\n",
    "df_train.to_csv(os.path.join(data_path, 'train_finet_.csv'), index=False)\n",
    "df_val.to_csv(os.path.join(data_path, 'val_finet_.csv'), index=False)\n",
    "df_test.to_csv(os.path.join(data_path, 'test_finet_.csv'), index=False)\n",
    "print(os.getcwd())"
   ]
  },
  {
   "cell_type": "code",
   "execution_count": null,
   "metadata": {
    "executionInfo": {
     "elapsed": 11,
     "status": "ok",
     "timestamp": 1752941968779,
     "user": {
      "displayName": "RNG Gesus",
      "userId": "12959870546117851803"
     },
     "user_tz": -180
    },
    "id": "-TxJbhEY5zbR",
    "outputId": "e405d6f7-c6e5-40d6-be7a-00a9987b8d9e"
   },
   "outputs": [
    {
     "name": "stdout",
     "output_type": "stream",
     "text": [
      "train_finet.csv exists: True\n",
      "val_finet.csv exists: True\n"
     ]
    }
   ],
   "source": [
    "print(\"train_finet.csv exists:\", os.path.exists(os.path.join(data_path, 'train_finet.csv')))\n",
    "print(\"val_finet.csv exists:\", os.path.exists(os.path.join(data_path, 'val_finet.csv')))"
   ]
  },
  {
   "cell_type": "markdown",
   "metadata": {
    "id": "XUmk4DMPfoop"
   },
   "source": [
    "**Loading Pre-Split CSVs into Hugging Face Datasets**\n",
    "----\n",
    "In this step, we:  \n",
    "1. **Read the pre-generated CSV files** (`train_finet.csv`, `val_finet.csv`, `test_finet.csv`) using **pandas**.  \n",
    "  These CSVs were created in the earlier data-splitting stage. This avoids re-running the split logic each time we run the notebook.\n",
    "\n",
    "2. **Convert the pandas DataFrames** into Hugging Face `Dataset` objects using `Dataset.from_pandas()`.\n",
    "\n",
    "3. **Combine them into a `DatasetDict`** so that Hugging Face’s training and evaluation APIs  \n",
    "   can directly access the `'train'`, `'validation'`, and `'test'` splits.\n",
    "\n",
    "\n",
    "If you don’t have them, you must run the **Train/Val/Test Split Generation** cell first.\n",
    "\n"
   ]
  },
  {
   "cell_type": "code",
   "execution_count": null,
   "metadata": {
    "executionInfo": {
     "elapsed": 6204,
     "status": "ok",
     "timestamp": 1752941977946,
     "user": {
      "displayName": "RNG Gesus",
      "userId": "12959870546117851803"
     },
     "user_tz": -180
    },
    "id": "iOtcB5OsxIyH",
    "outputId": "e64e21cf-ca52-481e-e3fa-574f7242e642"
   },
   "outputs": [
    {
     "name": "stderr",
     "output_type": "stream",
     "text": [
      "/usr/local/lib/python3.11/dist-packages/huggingface_hub/utils/_auth.py:94: UserWarning: \n",
      "The secret `HF_TOKEN` does not exist in your Colab secrets.\n",
      "To authenticate with the Hugging Face Hub, create a token in your settings tab (https://huggingface.co/settings/tokens), set it as secret in your Google Colab and restart your session.\n",
      "You will be able to reuse this secret in all of your notebooks.\n",
      "Please note that authentication is recommended but still optional to access public models or datasets.\n",
      "  warnings.warn(\n"
     ]
    },
    {
     "data": {
      "text/plain": [
       "tokenizer_config.json:   0%|          | 0.00/48.0 [00:00<?, ?B/s]"
      ]
     },
     "metadata": {},
     "output_type": "display_data"
    },
    {
     "data": {
      "text/plain": [
       "vocab.txt:   0%|          | 0.00/232k [00:00<?, ?B/s]"
      ]
     },
     "metadata": {},
     "output_type": "display_data"
    },
    {
     "data": {
      "text/plain": [
       "tokenizer.json:   0%|          | 0.00/466k [00:00<?, ?B/s]"
      ]
     },
     "metadata": {},
     "output_type": "display_data"
    },
    {
     "data": {
      "text/plain": [
       "config.json:   0%|          | 0.00/570 [00:00<?, ?B/s]"
      ]
     },
     "metadata": {},
     "output_type": "display_data"
    }
   ],
   "source": [
    "# Load CSVs using pandas\n",
    "import pandas as pd\n",
    "from datasets import Dataset, DatasetDict\n",
    "'''\n",
    "train_df = pd.read_csv(os.path.join(data_path, 'train_finet.csv'))\n",
    "val_df = pd.read_csv(os.path.join(data_path, 'val_finet.csv'))\n",
    "test_df = pd.read_csv(os.path.join(data_path, 'test_finet.csv'))\n",
    "'''\n",
    "train_df = pd.read_csv(os.path.join(data_path, 'train_finet_.csv'))\n",
    "val_df = pd.read_csv(os.path.join(data_path, 'val_finet_.csv'))\n",
    "test_df = pd.read_csv(os.path.join(data_path, 'test_finet_.csv'))\n",
    "\n",
    "# Convert to Hugging Face Datasets\n",
    "train_dataset = Dataset.from_pandas(train_df)\n",
    "val_dataset = Dataset.from_pandas(val_df)\n",
    "test_dataset = Dataset.from_pandas(test_df)\n",
    "\n",
    "# Combine into DatasetDict\n",
    "dataset = DatasetDict({\n",
    "    'train': train_dataset,\n",
    "    'validation': val_dataset,\n",
    "    'test': test_dataset\n",
    "})\n",
    "\n",
    "# Load tokenizer\n",
    "from transformers import BertTokenizerFast\n",
    "tokenizer = BertTokenizerFast.from_pretrained('bert-base-uncased')"
   ]
  },
  {
   "cell_type": "markdown",
   "metadata": {},
   "source": [
    "These bars were fully filled after the downloads completed.  \n",
    "However, before uploading the notebook to Git, we had to **remove all widget-related output metadata**.  \n",
    "This was necessary because:\n",
    "- GitHub cannot properly render `application/vnd.jupyter.widget-view+json` outputs (used by these progress bars).\n",
    "- Such outputs can cause large, messy diffs or even prevent the notebook from displaying on GitHub."
   ]
  },
  {
   "cell_type": "code",
   "execution_count": null,
   "metadata": {
    "executionInfo": {
     "elapsed": 11,
     "status": "ok",
     "timestamp": 1752941978982,
     "user": {
      "displayName": "RNG Gesus",
      "userId": "12959870546117851803"
     },
     "user_tz": -180
    },
    "id": "pKMdnXj1z04j",
    "outputId": "f62dba84-e67d-4a90-c2d5-82adc2f6b220"
   },
   "outputs": [
    {
     "data": {
      "text/plain": [
       "0.494"
      ]
     },
     "execution_count": 6,
     "metadata": {},
     "output_type": "execute_result"
    }
   ],
   "source": [
    "dataset['train'][0]['label']"
   ]
  },
  {
   "cell_type": "markdown",
   "metadata": {
    "id": "9hNh0dnvgVyJ"
   },
   "source": [
    "**Tokenizing the Dataset for BERT**\n",
    "----\n",
    "This step takes the dataset splits (`train`, `validation`, `test`) and applies **BERT-compatible tokenization** using our previously loaded tokenizer.\n",
    "\n",
    "There are three versions of the tokenization logic here:\n",
    "1. **Basic tokenization**  Simply converts `lyrics` text into token IDs with padding/truncation.   \n",
    "2. **Tokenization with chunking & index tracking (old attempt)**  Splits long lyrics into overlapping chunks, keeps track of original sample indices, and temporarily stores class labels as integers.   \n",
    "3. **Final tokenization**  Keeps chunking and index tracking but directly attaches the correct label without needing a temporary column.\n",
    "\n",
    "The final tokenized dataset is **saved to disk** (`tokenized_dataset_`) so we can load it later without re-running tokenization."
   ]
  },
  {
   "cell_type": "code",
   "execution_count": null,
   "metadata": {
    "executionInfo": {
     "elapsed": 75333,
     "status": "ok",
     "timestamp": 1751994343144,
     "user": {
      "displayName": "Nir Voloshin",
      "userId": "14480127574732435947"
     },
     "user_tz": -180
    },
    "id": "M4PH90cioDoz",
    "outputId": "083cc1ce-cad4-489b-bf6a-1abd0499f84e"
   },
   "outputs": [
    {
     "data": {
      "text/plain": [
       "Map:   0%|          | 0/60000 [00:00<?, ? examples/s]"
      ]
     },
     "metadata": {},
     "output_type": "display_data"
    },
    {
     "data": {
      "text/plain": [
       "Map:   0%|          | 0/7500 [00:00<?, ? examples/s]"
      ]
     },
     "metadata": {},
     "output_type": "display_data"
    },
    {
     "data": {
      "text/plain": [
       "Map:   0%|          | 0/7500 [00:00<?, ? examples/s]"
      ]
     },
     "metadata": {},
     "output_type": "display_data"
    },
    {
     "data": {
      "text/plain": [
       "Saving the dataset (0/1 shards):   0%|          | 0/66102 [00:00<?, ? examples/s]"
      ]
     },
     "metadata": {},
     "output_type": "display_data"
    },
    {
     "data": {
      "text/plain": [
       "Saving the dataset (0/1 shards):   0%|          | 0/8273 [00:00<?, ? examples/s]"
      ]
     },
     "metadata": {},
     "output_type": "display_data"
    },
    {
     "data": {
      "text/plain": [
       "Saving the dataset (0/1 shards):   0%|          | 0/8257 [00:00<?, ? examples/s]"
      ]
     },
     "metadata": {},
     "output_type": "display_data"
    }
   ],
   "source": [
    "#################################################################################################################################\n",
    "################################ no need to run, we can just load in the next section ###########################################\n",
    "#################################################################################################################################\n",
    "\n",
    "'''\n",
    "def tokenize_function(example):\n",
    "    return tokenizer(example['lyrics'], padding=\"max_length\", truncation=True)\n",
    "# Tokenize both train and val sets\n",
    "dataset = dataset.map(tokenize_function, batched=True)\n",
    "dataset.save_to_disk(os.path.join(data_path, 'tokenized_dataset'))\n",
    "'''\n",
    "'''\n",
    "def tokenize_with_index(examples, indices):\n",
    "    tokenized = tokenizer(\n",
    "        examples[\"lyrics\"],\n",
    "        truncation=True,\n",
    "        max_length=512,\n",
    "        stride=128,\n",
    "        padding=\"max_length\",\n",
    "        return_overflowing_tokens=True,\n",
    "        return_attention_mask=True,\n",
    "        return_token_type_ids=True\n",
    "    )\n",
    "\n",
    "    # Add original index for each chunk\n",
    "    sample_mapping = tokenized.pop(\"overflow_to_sample_mapping\")\n",
    "    tokenized[\"original_index\"] = [indices[i] for i in sample_mapping]\n",
    "    # Attach class as label - having problems with assigning to int\n",
    "    tokenized[\"temp_label\"] = [int(examples[\"class\"][i]) for i in sample_mapping]\n",
    "\n",
    "    return tokenized  # this is now a dict of lists\n",
    "\n",
    "# Apply to dataset\n",
    "tokenized = dataset.map(\n",
    "    tokenize_with_index,\n",
    "    with_indices=True,\n",
    "    batched=True,\n",
    "    remove_columns=['lyrics', 'artist', 'song', 'label', 'class']  # adjust as needed\n",
    ")\n",
    "# Drop old label if exists and re-add cleanly\n",
    "tokenized = tokenized.remove_columns('label') if 'label' in tokenized['train'].column_names else tokenized\n",
    "\n",
    "# Rename temp_label to label using map (with int)\n",
    "tokenized = tokenized.map(lambda ex: {\"label\": int(ex[\"temp_label\"])})\n",
    "tokenized = tokenized.remove_columns(\"temp_label\")\n",
    "'''\n",
    "def tokenize_with_index(examples, indices):\n",
    "    tokenized = tokenizer(\n",
    "        examples[\"lyrics\"],\n",
    "        truncation=True,\n",
    "        max_length=512,\n",
    "        stride=128,\n",
    "        padding=\"max_length\",\n",
    "        return_overflowing_tokens=True,\n",
    "        return_attention_mask=True,\n",
    "        return_token_type_ids=True\n",
    "    )\n",
    "\n",
    "    # Add original index/label for each chunk\n",
    "    sample_mapping = tokenized.pop(\"overflow_to_sample_mapping\")\n",
    "    tokenized[\"original_index\"] = [indices[i] for i in sample_mapping]\n",
    "    tokenized[\"label\"] = [examples[\"label\"][i] for i in sample_mapping]\n",
    "\n",
    "    return tokenized  # this is now a dict of lists\n",
    "\n",
    "# Apply to dataset\n",
    "tokenized = dataset.map(\n",
    "    tokenize_with_index,\n",
    "    with_indices=True,\n",
    "    batched=True,\n",
    "    remove_columns=['lyrics', 'artist', 'song']  # adjust as needed\n",
    ")\n",
    "# Drop old label if exists and re-add cleanly\n",
    "#tokenized = tokenized.remove_columns('label') if 'label' in tokenized['train'].column_names else tokenized\n",
    "\n",
    "# Rename temp_label to label using map (with int)\n",
    "#tokenized = tokenized.map(lambda ex: {\"label\": int(ex[\"temp_label\"])})\n",
    "#tokenized = tokenized.remove_columns(\"temp_label\")\n",
    "\n",
    "\n",
    "tokenized.save_to_disk(os.path.join(data_path, 'tokenized_dataset_'))\n",
    "\n"
   ]
  },
  {
   "cell_type": "markdown",
   "metadata": {},
   "source": [
    "These bars were fully filled after the downloads completed.  \n",
    "However, before uploading the notebook to Git, we had to **remove all widget-related output metadata**.  \n",
    "This was necessary because:\n",
    "- GitHub cannot properly render `application/vnd.jupyter.widget-view+json` outputs (used by these progress bars).\n",
    "- Such outputs can cause large, messy diffs or even prevent the notebook from displaying on GitHub."
   ]
  },
  {
   "cell_type": "markdown",
   "metadata": {
    "id": "MKnA1OdaiM62"
   },
   "source": [
    "**Loading Tokenized Dataset & Inspecting Chunk Structure**\n",
    "----\n",
    "In this steps, we **load the pre-tokenized dataset** from disk (`tokenized_dataset_`) instead of re-running tokenization.  \n",
    "This avoids redundant computation and ensures consistency across runs."
   ]
  },
  {
   "cell_type": "code",
   "execution_count": 4,
   "metadata": {
    "executionInfo": {
     "elapsed": 9047,
     "status": "ok",
     "timestamp": 1754671305498,
     "user": {
      "displayName": "Nir Voloshin",
      "userId": "14480127574732435947"
     },
     "user_tz": -180
    },
    "id": "XGoOI-RDEvQe"
   },
   "outputs": [],
   "source": [
    "from datasets import load_from_disk\n",
    "#tokenized = load_from_disk(f\"{data_path}/tokenized_dataset\")\n",
    "tokenized = load_from_disk(f\"{data_path}/tokenized_dataset_\")"
   ]
  },
  {
   "cell_type": "code",
   "execution_count": 5,
   "metadata": {
    "executionInfo": {
     "elapsed": 19,
     "status": "ok",
     "timestamp": 1754671310443,
     "user": {
      "displayName": "Nir Voloshin",
      "userId": "14480127574732435947"
     },
     "user_tz": -180
    },
    "id": "ByXCJMU-6VfE",
    "outputId": "3be5c8d2-4c49-412e-ebbd-d04b5dd2f1d9"
   },
   "outputs": [
    {
     "name": "stdout",
     "output_type": "stream",
     "text": [
      "Dataset({\n",
      "    features: ['label', 'input_ids', 'token_type_ids', 'attention_mask', 'original_index'],\n",
      "    num_rows: 66102\n",
      "})\n"
     ]
    }
   ],
   "source": [
    "#print(\"Total chunks:\", len(dataset['train']))\n",
    "data = tokenized['train']\n",
    "print(data)\n"
   ]
  },
  {
   "cell_type": "code",
   "execution_count": null,
   "metadata": {
    "executionInfo": {
     "elapsed": 13,
     "status": "ok",
     "timestamp": 1752941997114,
     "user": {
      "displayName": "RNG Gesus",
      "userId": "12959870546117851803"
     },
     "user_tz": -180
    },
    "id": "kJuDQaEvAmjM",
    "outputId": "5ab57522-2a85-4f0d-9a6d-8d128d30c5dd"
   },
   "outputs": [
    {
     "name": "stdout",
     "output_type": "stream",
     "text": [
      "Example type: <class 'int'>\n",
      "Example type: <class 'float'>\n",
      "Example value: 0\n"
     ]
    }
   ],
   "source": [
    "print(\"Example type:\", type(data['original_index'][0]))\n",
    "print(\"Example type:\", type(data['label'][0]))\n",
    "print(\"Example value:\", data['original_index'][0])"
   ]
  },
  {
   "cell_type": "code",
   "execution_count": 6,
   "metadata": {
    "executionInfo": {
     "elapsed": 755,
     "status": "ok",
     "timestamp": 1754671315154,
     "user": {
      "displayName": "Nir Voloshin",
      "userId": "14480127574732435947"
     },
     "user_tz": -180
    },
    "id": "e76XmrNvAZDC",
    "outputId": "deabb67e-4e53-4e95-ca30-7c386b493840"
   },
   "outputs": [
    {
     "name": "stdout",
     "output_type": "stream",
     "text": [
      "Total lyrics: 60000\n",
      "Total chunks: 66102\n",
      "Lyrics with >1 chunk: 4938\n",
      "Max chunks for a lyric: 11\n"
     ]
    }
   ],
   "source": [
    "from collections import Counter\n",
    "\n",
    "# Flatten original_index from list-of-list to list-of-int\n",
    "flat_indices = [i[0] if isinstance(i, list) else i for i in data['original_index']]\n",
    "\n",
    "chunk_counts = Counter(flat_indices)\n",
    "\n",
    "print(\"Total lyrics:\", len(set(flat_indices)))\n",
    "print(\"Total chunks:\", len(data))\n",
    "print(\"Lyrics with >1 chunk:\", sum(1 for count in chunk_counts.values() if count > 1))\n",
    "print(\"Max chunks for a lyric:\", max(chunk_counts.values()))"
   ]
  },
  {
   "cell_type": "code",
   "execution_count": null,
   "metadata": {
    "executionInfo": {
     "elapsed": 11,
     "status": "ok",
     "timestamp": 1752942001286,
     "user": {
      "displayName": "RNG Gesus",
      "userId": "12959870546117851803"
     },
     "user_tz": -180
    },
    "id": "GgB2J783A-q3",
    "outputId": "d0a6752d-eaa6-45cc-abb4-a611f7d594f6"
   },
   "outputs": [
    {
     "name": "stdout",
     "output_type": "stream",
     "text": [
      "<class 'datasets.arrow_dataset.Dataset'>\n"
     ]
    }
   ],
   "source": [
    "print(type(data))"
   ]
  },
  {
   "cell_type": "code",
   "execution_count": 7,
   "metadata": {
    "executionInfo": {
     "elapsed": 16,
     "status": "ok",
     "timestamp": 1754671320190,
     "user": {
      "displayName": "Nir Voloshin",
      "userId": "14480127574732435947"
     },
     "user_tz": -180
    },
    "id": "WOFR3KslIP36",
    "outputId": "7bd67eac-9df6-419c-e5c4-1f373aaf37d5"
   },
   "outputs": [
    {
     "name": "stdout",
     "output_type": "stream",
     "text": [
      "Dataset type: <class 'datasets.arrow_dataset.Dataset'>\n",
      "Train columns: ['label', 'input_ids', 'token_type_ids', 'attention_mask', 'original_index']\n",
      "Sample type: <class 'dict'>\n",
      "Sample keys: ['label', 'input_ids', 'token_type_ids', 'attention_mask', 'original_index']\n",
      "attention_mask type: <class 'list'>\n",
      "First 10 values: [1, 1, 1, 1, 1, 1, 1, 1, 1, 1]\n"
     ]
    }
   ],
   "source": [
    "print('Dataset type:', type(data))\n",
    "print('Train columns:', data.column_names)\n",
    "sample = data[0]\n",
    "print('Sample type:', type(sample))\n",
    "print('Sample keys:', list(sample.keys()))\n",
    "print('attention_mask type:', type(sample['attention_mask']))\n",
    "print('First 10 values:', sample['attention_mask'][:10])\n"
   ]
  },
  {
   "cell_type": "markdown",
   "metadata": {
    "id": "dC1rVEu0ik1e"
   },
   "source": [
    "**Chunks per Input Distribution (Post-Tokenization)**\n",
    "----"
   ]
  },
  {
   "cell_type": "code",
   "execution_count": 10,
   "metadata": {
    "executionInfo": {
     "elapsed": 2899,
     "status": "ok",
     "timestamp": 1754671418704,
     "user": {
      "displayName": "Nir Voloshin",
      "userId": "14480127574732435947"
     },
     "user_tz": -180
    },
    "id": "4BcfK0Vh-F_1",
    "outputId": "3e5ea288-251e-4643-b1f4-edca6013c753"
   },
   "outputs": [
    {
     "data": {
      "image/png": "[encoded data removed]",
      "text/plain": [
       "<Figure size 640x480 with 1 Axes>"
      ]
     },
     "metadata": {},
     "output_type": "display_data"
    }
   ],
   "source": [
    "#dont run if you dont run the Tokenization\n",
    "\n",
    "from collections import Counter\n",
    "\n",
    "'''\n",
    "# Attach labels to each chunk based on original_index\n",
    "original_labels = dataset['train']['label']  # labels from the pre-tokenized set\n",
    "\n",
    "def add_labels(examples):\n",
    "    labels = [original_labels[idx] for idx in examples['original_index']]\n",
    "    examples['label'] = labels\n",
    "    return examples\n",
    "\n",
    "\n",
    "tokenized = tokenized.map(add_labels, batched=True)\n",
    "'''\n",
    "# Flatten original_index if nested\n",
    "flat_indices = [\n",
    "    idx[0] if isinstance(idx, list) else idx\n",
    "    for idx in tokenized['train']['original_index']\n",
    "]\n",
    "chunk_counts = Counter(flat_indices)\n",
    "\n",
    "plt.hist(list(chunk_counts.values()), bins=20, log=True)\n",
    "plt.xlabel(\"Number of chunks per original input\")\n",
    "plt.ylabel(\"Frequency (log scale)\")\n",
    "plt.title(\"Chunks per Input Distribution\")\n",
    "plt.show()\n",
    "\n",
    "\n"
   ]
  },
  {
   "cell_type": "code",
   "execution_count": null,
   "metadata": {
    "executionInfo": {
     "elapsed": 9,
     "status": "ok",
     "timestamp": 1752942013890,
     "user": {
      "displayName": "RNG Gesus",
      "userId": "12959870546117851803"
     },
     "user_tz": -180
    },
    "id": "lnCuGdPDyTc9",
    "outputId": "b555326f-a08d-4f53-8910-c52d0d27052c"
   },
   "outputs": [
    {
     "name": "stdout",
     "output_type": "stream",
     "text": [
      "Histogram of number of chunks per lyric:\n",
      "1 chunks: 55062 lyrics\n",
      "2 chunks: 3936 lyrics\n",
      "3 chunks: 873 lyrics\n",
      "4 chunks: 112 lyrics\n",
      "5 chunks: 11 lyrics\n",
      "6 chunks: 3 lyrics\n",
      "7 chunks: 1 lyrics\n",
      "10 chunks: 1 lyrics\n",
      "11 chunks: 1 lyrics\n"
     ]
    }
   ],
   "source": [
    "# counting how many lyrics have each number of chunks\n",
    "hist_dict = Counter(chunk_counts.values())\n",
    "\n",
    "# Print nicely\n",
    "print(\"Histogram of number of chunks per lyric:\")\n",
    "for num_chunks, count in sorted(hist_dict.items()):\n",
    "    print(f\"{num_chunks} chunks: {count} lyrics\")"
   ]
  },
  {
   "cell_type": "markdown",
   "metadata": {
    "id": "gsmX8usMvOVD"
   },
   "source": [
    "Fine-Tuning with LoRA\n",
    "-----\n",
    "\n"
   ]
  },
  {
   "cell_type": "code",
   "execution_count": null,
   "metadata": {
    "id": "JYCAjcjC5HJj"
   },
   "outputs": [],
   "source": [
    "class LowRankLayer(nn.Module): # clas implementation\n",
    "    def __init__(self, linear, rank, alpha, use_dora=True):\n",
    "        super().__init__()\n",
    "        # rank: controls the inner dimension of the matrices A and B; controls t\n",
    "        # a key factor in determining the balance between model adaptability and\n",
    "        # alpha: a scaling hyper-parameter applied to the output of the low-rank\n",
    "        # controls the extent to which the adapted layer's output is allowed to\n",
    "\n",
    "        self.use_dora = use_dora\n",
    "        self.rank = rank # low-rank\n",
    "        self.alpha = alpha # scaling hyper-parameter\n",
    "        self.linear = linear\n",
    "        self.in_dim = linear.in_features\n",
    "        self.out_dim = linear.out_features\n",
    "\n",
    "        # weights\n",
    "        std_dev = 1 / torch.sqrt(torch.tensor(self.rank).float())\n",
    "        self.A = nn.Parameter(torch.randn(self.in_dim, self.rank) * std_dev)\n",
    "        self.B = nn.Parameter(torch.zeros(self.rank, self.out_dim))\n",
    "\n",
    "        if self.use_dora:\n",
    "            self.m = nn.Parameter(\n",
    "                self.linear.weight.norm(p=2, dim=0, keepdim=True))\n",
    "        else:\n",
    "            self.m = None\n",
    "\n",
    "    def forward(self, x):\n",
    "        lora = self.A @ self.B # combine LoRA matrices\n",
    "        if self.use_dora:\n",
    "            numerator = self.linear.weight + self.alpha * lora.T\n",
    "            denominator = numerator.norm(p=2, dim=0, keepdim=True)\n",
    "            directional_component = numerator / denominator\n",
    "            new_weight = self.m * directional_component\n",
    "            return F.linear(x, new_weight, self.linear.bias)\n",
    "        else:\n",
    "            # combine LoRA with orig. weights\n",
    "            combined_weight = self.linear.weight + self.alpha * lora.T\n",
    "            return F.linear(x, combined_weight, self.linear.bias)"
   ]
  },
  {
   "cell_type": "code",
   "execution_count": null,
   "metadata": {
    "id": "yhj5lluQ5OIx"
   },
   "outputs": [],
   "source": [
    "def apply_lora_to_bert(model, rank, alpha, start_layer, use_dora=False,):\n",
    "    \"\"\"\n",
    "    Apply LoRA to query and value in each transformer layer from `start_layer` to the last.\n",
    "\n",
    "    Args:\n",
    "        model: BERT model\n",
    "        rank: LoRA rank\n",
    "        alpha: LoRA scaling factor\n",
    "        use_dora: if True, use DoRA-style adaptation\n",
    "        start_layer: the index of the first encoder layer to apply LoRA (e.g. 9 means layers 9–11)\n",
    "    \"\"\"\n",
    "    for i in range(start_layer, len(model.bert.encoder.layer)):\n",
    "        layer = model.bert.encoder.layer[i]\n",
    "        for proj in ['query', 'value']:\n",
    "            orig = getattr(layer.attention.self, proj)\n",
    "\n",
    "            # Only wrap if it's still a Linear layer\n",
    "            if not isinstance(orig, nn.Linear):\n",
    "                print(f\"Skipping already-wrapped layer: layer {i} {proj}\")\n",
    "                continue\n",
    "\n",
    "            wrapped = LowRankLayer(orig, rank, alpha, use_dora=use_dora)\n",
    "            setattr(layer.attention.self, proj, wrapped)"
   ]
  },
  {
   "cell_type": "code",
   "execution_count": null,
   "metadata": {
    "executionInfo": {
     "elapsed": 2175,
     "status": "ok",
     "timestamp": 1752942023199,
     "user": {
      "displayName": "RNG Gesus",
      "userId": "12959870546117851803"
     },
     "user_tz": -180
    },
    "id": "yRt5x7nK5RJ6",
    "outputId": "22b5466f-b7b9-46d5-b9f2-3dff1839d148"
   },
   "outputs": [
    {
     "data": {
      "text/plain": [
       "model.safetensors:   0%|          | 0.00/440M [00:00<?, ?B/s]"
      ]
     },
     "metadata": {},
     "output_type": "display_data"
    }
   ],
   "source": [
    "'''\n",
    "from transformers import BertForSequenceClassification\n",
    "model = BertForSequenceClassification.from_pretrained(\"bert-base-uncased\", num_labels=NUM_CLASSES)\n",
    "'''\n",
    "from transformers import BertModel\n",
    "\n",
    "class BertForRegression(nn.Module):\n",
    "    def __init__(self, pretrained_model_name=\"bert-base-uncased\"):\n",
    "        super().__init__()\n",
    "        self.bert = BertModel.from_pretrained(pretrained_model_name)\n",
    "        self.regressor = nn.Linear(self.bert.config.hidden_size, 1)  # Output: single float\n",
    "\n",
    "    def forward(self, input_ids, attention_mask=None, token_type_ids=None):\n",
    "        outputs = self.bert(\n",
    "            input_ids=input_ids,\n",
    "            attention_mask=attention_mask,\n",
    "            token_type_ids=token_type_ids,\n",
    "        )\n",
    "        pooled_output = outputs.pooler_output\n",
    "        return self.regressor(pooled_output)  # Shape: (batch_size, 1)\n",
    "\n",
    "model = BertForRegression()\n",
    "rank = 4\n",
    "alpha = 8\n",
    "\n"
   ]
  },
  {
   "cell_type": "markdown",
   "metadata": {},
   "source": [
    "These bars were fully filled after the downloads completed.  \n",
    "However, before uploading the notebook to Git, we had to **remove all widget-related output metadata**.  \n",
    "This was necessary because:\n",
    "- GitHub cannot properly render `application/vnd.jupyter.widget-view+json` outputs (used by these progress bars).\n",
    "- Such outputs can cause large, messy diffs or even prevent the notebook from displaying on GitHub."
   ]
  },
  {
   "cell_type": "code",
   "execution_count": null,
   "metadata": {
    "id": "L7wTR5KUcLkq"
   },
   "outputs": [],
   "source": [
    "# a original version\n",
    "\n",
    "apply_lora_to_bert(model, rank, alpha, start_layer=9 , use_dora=False) #<------\n",
    "\n",
    "#  Freezing all parameters except LowRankLayer and classifier\n",
    "model.requires_grad_(False)\n",
    "\n",
    "\n",
    "target_layers = [9, 10, 11]  # LoRA applied here\n",
    "#target_layers = list(range(10, 12))  # Focus on second half layers\n",
    "\n",
    "for name, param in model.named_parameters():\n",
    "    if any(f\"bert.encoder.layer.{i}.attention.self\" in name for i in target_layers) and any(\n",
    "        k in name for k in ['A', 'B', 'm']\n",
    "    ):\n",
    "        param.requires_grad = True\n",
    "    elif \"classifier\" in name:\n",
    "        param.requires_grad = True  # tuning classifier too"
   ]
  },
  {
   "cell_type": "code",
   "execution_count": null,
   "metadata": {
    "executionInfo": {
     "elapsed": 12,
     "status": "ok",
     "timestamp": 1752942026819,
     "user": {
      "displayName": "RNG Gesus",
      "userId": "12959870546117851803"
     },
     "user_tz": -180
    },
    "id": "G6Y7Ds027bHM",
    "outputId": "81c39348-eeb7-4188-9edf-e07764d4beb6"
   },
   "outputs": [
    {
     "name": "stdout",
     "output_type": "stream",
     "text": [
      "Params to learn:\n",
      "\t bert.encoder.layer.9.attention.self.query.A\n",
      "\t bert.encoder.layer.9.attention.self.query.B\n",
      "\t bert.encoder.layer.9.attention.self.value.A\n",
      "\t bert.encoder.layer.9.attention.self.value.B\n",
      "\t bert.encoder.layer.10.attention.self.query.A\n",
      "\t bert.encoder.layer.10.attention.self.query.B\n",
      "\t bert.encoder.layer.10.attention.self.value.A\n",
      "\t bert.encoder.layer.10.attention.self.value.B\n",
      "\t bert.encoder.layer.11.attention.self.query.A\n",
      "\t bert.encoder.layer.11.attention.self.query.B\n",
      "\t bert.encoder.layer.11.attention.self.value.A\n",
      "\t bert.encoder.layer.11.attention.self.value.B\n"
     ]
    }
   ],
   "source": [
    "# a original version\n",
    "\n",
    "# Printing and collecting trainable parameters\n",
    "print(\"Params to learn:\")\n",
    "params_to_update = []\n",
    "for name, param in model.named_parameters():\n",
    "    if param.requires_grad:\n",
    "        print(\"\\t\", name)\n",
    "        params_to_update.append(param)"
   ]
  },
  {
   "cell_type": "code",
   "execution_count": null,
   "metadata": {
    "executionInfo": {
     "elapsed": 10,
     "status": "ok",
     "timestamp": 1752942028633,
     "user": {
      "displayName": "RNG Gesus",
      "userId": "12959870546117851803"
     },
     "user_tz": -180
    },
    "id": "woV5Xpn-4YRb",
    "outputId": "26b9f2bd-21ec-4299-bb64-5a920517fc97"
   },
   "outputs": [
    {
     "name": "stdout",
     "output_type": "stream",
     "text": [
      "[CLS] lead me into temptation save me with your healing hands show me the fires of creation baby be my holy man flames in the garden of eden heaven in pieces at my feet i faced the raging ruin of a million sleepless nights i need to rest my weary head on your resurrection bed storms across the horizon whirlwind tuggin ' at my sleeve just when my heart was turning to an icy shade of blue you came into the night held me so close how the hell ya found me god only knows lead me into temptation save me with your healing hands show me the fires of creation baby be my holy man lies in the valley of evil like shadows fallin ' ' cross my eyes when there ' s no sanctuary you came and turned the storms away you made the darkest night in my life into judgment day lead me into temptation save me with your healing hands show me the fires of creation baby be my holy man i see forever in your eyes for your love i would make any sacrifice, yeah lead me into temptation save me with your healing hands show me the fires of creation baby be my holy man lead me into temptation save me with your healing hands show me the fires of creation baby be my holy man lead me into temptation save me with your healing hands show me the fires of creation baby be my holy man lead me into temptation save me with your healing hands show me the fires of creation baby be my holy man [SEP] [PAD] [PAD] [PAD] [PAD] [PAD] [PAD] [PAD] [PAD] [PAD] [PAD] [PAD] [PAD] [PAD] [PAD] [PAD] [PAD] [PAD] [PAD] [PAD] [PAD] [PAD] [PAD] [PAD] [PAD] [PAD] [PAD] [PAD] [PAD] [PAD] [PAD] [PAD] [PAD] [PAD] [PAD] [PAD] [PAD] [PAD] [PAD] [PAD] [PAD] [PAD] [PAD] [PAD] [PAD] [PAD] [PAD] [PAD] [PAD] [PAD] [PAD] [PAD] [PAD] [PAD] [PAD] [PAD] [PAD] [PAD] [PAD] [PAD] [PAD] [PAD] [PAD] [PAD] [PAD] [PAD] [PAD] [PAD] [PAD] [PAD] [PAD] [PAD] [PAD] [PAD] [PAD] [PAD] [PAD] [PAD] [PAD] [PAD] [PAD] [PAD] [PAD] [PAD] [PAD] [PAD] [PAD] [PAD] [PAD] [PAD] [PAD] [PAD] [PAD] [PAD] [PAD] [PAD] [PAD] [PAD] [PAD] [PAD] [PAD] [PAD] [PAD] [PAD] [PAD] [PAD] [PAD] [PAD] [PAD] [PAD] [PAD] [PAD] [PAD] [PAD] [PAD] [PAD] [PAD] [PAD] [PAD] [PAD] [PAD] [PAD] [PAD] [PAD] [PAD] [PAD] [PAD] [PAD] [PAD] [PAD] [PAD] [PAD] [PAD] [PAD] [PAD] [PAD] [PAD] [PAD] [PAD] [PAD] [PAD] [PAD] [PAD] [PAD] [PAD] [PAD] [PAD] [PAD] [PAD] [PAD] [PAD] [PAD] [PAD] [PAD] [PAD] [PAD] [PAD] [PAD] [PAD] [PAD] [PAD] [PAD] [PAD] [PAD] [PAD] [PAD] [PAD] [PAD] [PAD] [PAD] [PAD] [PAD] [PAD] [PAD] [PAD] [PAD] [PAD] [PAD] [PAD] [PAD] [PAD] [PAD] [PAD] [PAD] [PAD] [PAD] [PAD] [PAD] [PAD] [PAD] [PAD] [PAD] [PAD] [PAD] [PAD] [PAD] [PAD] [PAD] [PAD] [PAD] [PAD] [PAD] [PAD] [PAD] [PAD] [PAD] [PAD] [PAD] [PAD] [PAD] [PAD] [PAD] [PAD] [PAD] [PAD] [PAD] [PAD] [PAD] [PAD] [PAD] [PAD] [PAD] [PAD] [PAD] [PAD] [PAD] [PAD] [PAD] [PAD] [PAD] [PAD]\n",
      "0.494\n"
     ]
    }
   ],
   "source": [
    "sum(p.numel() for p in model.parameters() if p.requires_grad)\n",
    "print(tokenizer.decode(tokenized['train'][0]['input_ids']))\n",
    "print(tokenized['train'][0]['label'])  # Should be int from 0 to 3\n"
   ]
  },
  {
   "cell_type": "markdown",
   "metadata": {
    "id": "vAgZq3rmlJB9"
   },
   "source": [
    "**Training Loop for BERT-Based Classification with Best Model Tracking**\n",
    "----"
   ]
  },
  {
   "cell_type": "code",
   "execution_count": null,
   "metadata": {
    "id": "7yncnkul9rD0"
   },
   "outputs": [],
   "source": [
    "import copy\n",
    "\n",
    "def train_model(model, dataloaders, criterion, optimizer, num_epochs=25):\n",
    "    since = time.time()\n",
    "\n",
    "    val_acc_history = []\n",
    "\n",
    "    best_model_wts = copy.deepcopy(model.state_dict())\n",
    "    best_acc = 0.0\n",
    "\n",
    "    for epoch in range(num_epochs):\n",
    "        print('Epoch {}/{}'.format(epoch, num_epochs - 1))\n",
    "        print('-' * 10)\n",
    "\n",
    "        # Each epoch has a training and validation phase\n",
    "        for phase in ['train', 'val']:\n",
    "            if phase == 'train':\n",
    "                model.train()  # Set model to training mode\n",
    "            else:\n",
    "                model.eval()   # Set model to evaluate mode\n",
    "\n",
    "            running_loss = 0.0\n",
    "            running_corrects = 0\n",
    "\n",
    "            # Iterate over data.\n",
    "            for batch in dataloaders[phase]:\n",
    "                input_ids = batch['input_ids'].to(device)\n",
    "                attention_mask = batch['attention_mask'].to(device)\n",
    "                labels = batch['label'].to(device)\n",
    "\n",
    "\n",
    "                # forward\n",
    "                # track history if only in train\n",
    "                with torch.set_grad_enabled(phase == 'train'):\n",
    "                    # Get model outputs and calculate loss\n",
    "                    outputs = model(input_ids=input_ids, attention_mask=attention_mask).logits\n",
    "                    loss = criterion(outputs, labels)\n",
    "\n",
    "                    _, preds = torch.max(outputs, 1)\n",
    "\n",
    "                    # backward + optimize only if in training phase\n",
    "                    if phase == 'train':\n",
    "                        # zero the parameter gradients\n",
    "                        optimizer.zero_grad()\n",
    "                        loss.backward()\n",
    "                        optimizer.step()\n",
    "\n",
    "                # statistics\n",
    "                running_loss += loss.item() * input_ids.size(0)\n",
    "                running_corrects += torch.sum(preds == labels)\n",
    "\n",
    "            epoch_loss = running_loss / len(dataloaders[phase].dataset)\n",
    "            epoch_acc = running_corrects.double() / len(dataloaders[phase].dataset)\n",
    "\n",
    "            print('{} Loss: {:.4f} Acc: {:.4f}'.format(phase, epoch_loss, epoch_acc))\n",
    "\n",
    "            # deep copy the model\n",
    "            if phase == 'val' and epoch_acc > best_acc:\n",
    "                best_acc = epoch_acc\n",
    "                best_model_wts = copy.deepcopy(model.state_dict())\n",
    "            if phase == 'val':\n",
    "                val_acc_history.append(epoch_acc)\n",
    "\n",
    "        print()\n",
    "\n",
    "    time_elapsed = time.time() - since\n",
    "    print('Training complete in {:.0f}m {:.0f}s'.format(time_elapsed // 60, time_elapsed % 60))\n",
    "    print('Best val Acc: {:4f}'.format(best_acc))\n",
    "\n",
    "    # load best model weights\n",
    "    model.load_state_dict(best_model_wts)\n",
    "    return model, val_acc_history"
   ]
  },
  {
   "cell_type": "code",
   "execution_count": null,
   "metadata": {
    "executionInfo": {
     "elapsed": 52,
     "status": "ok",
     "timestamp": 1752942034625,
     "user": {
      "displayName": "RNG Gesus",
      "userId": "12959870546117851803"
     },
     "user_tz": -180
    },
    "id": "DD0iertPQJE6",
    "outputId": "a9ed7b61-c865-4907-b360-8ee9eee4cf7f"
   },
   "outputs": [
    {
     "name": "stdout",
     "output_type": "stream",
     "text": [
      " Using existing dataset structure\n",
      "Columns: ['label', 'input_ids', 'token_type_ids', 'attention_mask', 'original_index']\n"
     ]
    }
   ],
   "source": [
    "print(\" Using existing dataset structure\")\n",
    "print(\"Columns:\", tokenized['train'].column_names)\n",
    "\n",
    "# Set format and continue with training\n",
    "tokenized.set_format(\n",
    "    type='torch',\n",
    "    columns=['input_ids', 'attention_mask', 'label', 'original_index']\n",
    ")"
   ]
  },
  {
   "cell_type": "markdown",
   "metadata": {
    "id": "Di8HadZUmJKU"
   },
   "source": [
    "**Creating PyTorch DataLoaders for Tokenized Dataset**"
   ]
  },
  {
   "cell_type": "code",
   "execution_count": null,
   "metadata": {
    "executionInfo": {
     "elapsed": 46,
     "status": "ok",
     "timestamp": 1752942036978,
     "user": {
      "displayName": "RNG Gesus",
      "userId": "12959870546117851803"
     },
     "user_tz": -180
    },
    "id": "mt129Fpo-CaK",
    "outputId": "0247b73c-0982-4d04-acce-09d24edf71cb"
   },
   "outputs": [
    {
     "name": "stdout",
     "output_type": "stream",
     "text": [
      "torch.Size([32, 512]) torch.Size([32, 512]) tensor([0.5620, 0.7850, 0.4010, 0.6170, 0.6530, 0.2120, 0.7210, 0.5190, 0.6440,\n",
      "        0.4530, 0.1880, 0.4860, 0.3250, 0.9590, 0.6620, 0.8520, 0.6800, 0.4590,\n",
      "        0.4970, 0.6600, 0.7160, 0.1360, 0.9160, 0.1800, 0.7350, 0.7410, 0.1040,\n",
      "        0.0760, 0.2910, 0.6180, 0.7770, 0.5180])\n"
     ]
    }
   ],
   "source": [
    "from torch.utils.data import DataLoader\n",
    "# Defining dataloader\n",
    "\n",
    "batch_size = 32\n",
    "dataloaders = {\n",
    "    'train': DataLoader(tokenized['train'], batch_size=batch_size, shuffle=True),\n",
    "    'val': DataLoader(tokenized['validation'], batch_size=batch_size)\n",
    "}\n",
    "dataset_sizes = {\n",
    "    'train': len(tokenized['train']),\n",
    "    'val': len(tokenized['validation'])\n",
    "}\n",
    "\n",
    "for batch in dataloaders['train']:\n",
    "    print(batch['input_ids'].shape, batch['attention_mask'].shape, batch['label'])\n",
    "    break"
   ]
  },
  {
   "cell_type": "markdown",
   "metadata": {
    "id": "KYy0ENWxl9Pt"
   },
   "source": [
    "**Hyperparameters**\n",
    "----"
   ]
  },
  {
   "cell_type": "code",
   "execution_count": null,
   "metadata": {
    "executionInfo": {
     "elapsed": 305,
     "status": "ok",
     "timestamp": 1752942040304,
     "user": {
      "displayName": "RNG Gesus",
      "userId": "12959870546117851803"
     },
     "user_tz": -180
    },
    "id": "1K_o40QldJ0p",
    "outputId": "10e4564d-cf02-4b8b-cc50-29651623878e"
   },
   "outputs": [
    {
     "name": "stdout",
     "output_type": "stream",
     "text": [
      " Training setup complete:\n",
      "   - Model output: single float (regression)\n",
      "   - Learning rate: 2e-05\n",
      "   - Device: cuda:0\n"
     ]
    }
   ],
   "source": [
    "# Hyperparameters\n",
    "from torch.optim import AdamW\n",
    "\n",
    "device = torch.device(\"cuda:0\" if torch.cuda.is_available() else \"cpu\")\n",
    "model = model.to(device)\n",
    "\n",
    "# Use lower learning rate\n",
    "optimizer = AdamW(\n",
    "    filter(lambda p: p.requires_grad, model.parameters()),\n",
    "    lr=2e-5,  # Lower learning rate\n",
    ")\n",
    "\n",
    "#criterion = nn.CrossEntropyLoss()\n",
    "criterion = nn.MSELoss()\n",
    "\n",
    "print(f\" Training setup complete:\")\n",
    "#print(f\"   - Model output classes: {NUM_CLASSES}\")\n",
    "print(f\"   - Model output: single float (regression)\")\n",
    "print(f\"   - Learning rate: {optimizer.param_groups[0]['lr']}\")\n",
    "print(f\"   - Device: {device}\")\n",
    "# Training\n",
    "#model, hist = train_model(model, dataloaders, criterion, optimizer, num_epochs=num_epochs)"
   ]
  },
  {
   "cell_type": "markdown",
   "metadata": {
    "id": "YsQDFYyYmdbh"
   },
   "source": [
    "**Training Loop with Lyric-Level Evaluation for Regression**\n",
    "---\n",
    "\n",
    "This code defines a custom training and evaluation pipeline for a regression task on tokenized lyric data.\n",
    "\n",
    "**train_one_epoch()** runs one epoch for either training or validation, tracking loss and collecting predictions, labels, and original lyric indices.\n",
    "\n",
    "**evaluate_by_lyric()** aggregates chunk-level predictions back to lyric-level by averaging, then calculates the Mean Squared Error (MSE) across complete lyrics.\n",
    "\n",
    "**train_model_with_progress()** orchestrates multi-epoch training, evaluates after each epoch, and keeps the model state with the best validation MSE."
   ]
  },
  {
   "cell_type": "code",
   "execution_count": null,
   "metadata": {
    "id": "A4_Fd4ZC7z6j"
   },
   "outputs": [],
   "source": [
    "from collections import defaultdict\n",
    "import torch\n",
    "from sklearn.metrics import accuracy_score\n",
    "from tqdm import tqdm\n",
    "import copy\n",
    "\n",
    "\n",
    "def train_one_epoch(model, dataloader, criterion, optimizer=None, device=None):\n",
    "    phase = 'train' if model.training else 'val'\n",
    "    running_loss = 0.0\n",
    "    all_preds, all_labels, all_origins = [], [], []\n",
    "\n",
    "    progress_bar = tqdm(dataloader, desc=f\"{'  Training' if phase == 'train' else ' Validation'}\", leave=False)\n",
    "\n",
    "    for batch_idx, batch in enumerate(progress_bar):\n",
    "        input_ids = batch['input_ids'].to(device)\n",
    "        attention_mask = batch['attention_mask'].to(device)\n",
    "        labels = batch['label'].to(device).float()  #  ensure float32\n",
    "        origins = batch['original_index']\n",
    "\n",
    "        with torch.set_grad_enabled(phase == 'train'):\n",
    "            outputs = model(input_ids=input_ids, attention_mask=attention_mask)\n",
    "            logits = outputs if not isinstance(outputs, torch.Tensor) else outputs\n",
    "            logits = logits.view(-1)      # shape: (batch,)\n",
    "            labels = labels.view(-1)      # shape: (batch,)\n",
    "            loss = criterion(logits, labels)\n",
    "\n",
    "            if phase == 'train':\n",
    "                optimizer.zero_grad()\n",
    "                loss.backward()\n",
    "                torch.nn.utils.clip_grad_norm_(model.parameters(), max_norm=1.0)\n",
    "                optimizer.step()\n",
    "\n",
    "        batch_size = input_ids.size(0)\n",
    "        running_loss += loss.item() * batch_size\n",
    "\n",
    "        progress_bar.set_postfix({\n",
    "            'Loss': f'{running_loss / ((batch_idx + 1) * batch_size):.4f}'\n",
    "        })\n",
    "\n",
    "        if phase == 'val':\n",
    "            all_preds.append(logits.detach().cpu())\n",
    "            all_labels.append(labels.detach().cpu())\n",
    "            all_origins.extend(origins)\n",
    "\n",
    "    epoch_loss = running_loss / len(dataloader.dataset)\n",
    "\n",
    "    if phase == 'val':\n",
    "        return epoch_loss, all_preds, all_labels, all_origins\n",
    "    else:\n",
    "        return epoch_loss, None  # No training accuracy anymore\n",
    "\n",
    "def evaluate_by_lyric(all_preds, all_labels, all_origins):\n",
    "    preds_cat = torch.cat(all_preds)\n",
    "    labels_cat = torch.cat(all_labels)\n",
    "\n",
    "    pred_groups = defaultdict(list)\n",
    "    label_map = {}\n",
    "\n",
    "    for pred, label, origin in zip(preds_cat, labels_cat, all_origins):\n",
    "        pred_groups[origin].append(pred)\n",
    "        label_map[origin] = label.item()\n",
    "\n",
    "    preds, targets = [], []\n",
    "    for origin in sorted(pred_groups.keys()):\n",
    "        avg_pred = torch.stack(pred_groups[origin]).mean().item()  # direct average\n",
    "        preds.append(avg_pred)\n",
    "        targets.append(label_map[origin])\n",
    "\n",
    "    # Compute regression metrics (e.g., MSE or Pearson)\n",
    "    from sklearn.metrics import mean_squared_error\n",
    "    mse = mean_squared_error(targets, preds)\n",
    "\n",
    "    return mse\n",
    "\n",
    "def train_model_with_progress(model, dataloaders, criterion, optimizer, num_epochs=25, device=None):\n",
    "    if device is None:\n",
    "        device = torch.device(\"cuda:0\" if torch.cuda.is_available() else \"cpu\")\n",
    "\n",
    "    since = time.time()\n",
    "    train_loss_history = []\n",
    "    val_loss_history = []\n",
    "    val_mse_history = []\n",
    "    best_model_wts = copy.deepcopy(model.state_dict())\n",
    "    best_mse = float('inf')  # lower is better\n",
    "\n",
    "    print(f\" Starting training for {num_epochs} epochs...\\n{'='*50}\")\n",
    "\n",
    "    for epoch in range(num_epochs):\n",
    "        print(f'\\n Epoch {epoch+1}/{num_epochs}\\n{\"-\"*30}')\n",
    "\n",
    "        # --- Training ---\n",
    "        model.train()\n",
    "        train_loss, _ = train_one_epoch(\n",
    "            model, dataloaders['train'], criterion, optimizer, device)\n",
    "        train_loss_history.append(train_loss)\n",
    "        print(f\"  Train      | Loss: {train_loss:.4f}\")\n",
    "\n",
    "        # --- Validation ---\n",
    "        model.eval()\n",
    "        val_loss, val_preds, val_labels, val_origins = train_one_epoch(\n",
    "            model, dataloaders['val'], criterion, device=device)\n",
    "        val_mse = evaluate_by_lyric(val_preds, val_labels, val_origins)\n",
    "        val_loss_history.append(val_loss)\n",
    "        val_mse_history.append(val_mse)\n",
    "\n",
    "        print(f\" Validation | Loss: {val_loss:.4f} | MSE: {val_mse:.4f}\")\n",
    "\n",
    "        # Save best model\n",
    "        if val_mse < best_mse:\n",
    "            best_mse = val_mse\n",
    "            best_model_wts = copy.deepcopy(model.state_dict())\n",
    "            print(f\" New best validation MSE: {best_mse:.4f}\")\n",
    "\n",
    "        if torch.cuda.is_available():\n",
    "            torch.cuda.empty_cache()\n",
    "\n",
    "    time_elapsed = time.time() - since\n",
    "    print(f\"\\n Training complete in {time_elapsed // 60:.0f}m {time_elapsed % 60:.0f}s\")\n",
    "    print(f\" Best lyric-level validation MSE: {best_mse:.4f}\")\n",
    "\n",
    "    model.load_state_dict(best_model_wts)\n",
    "    history = {\n",
    "        'train_loss': train_loss_history,\n",
    "        'val_loss': val_loss_history,\n",
    "        'val_mse': val_mse_history\n",
    "    }\n",
    "    return model, history"
   ]
  },
  {
   "cell_type": "code",
   "execution_count": null,
   "metadata": {
    "executionInfo": {
     "elapsed": 46,
     "status": "ok",
     "timestamp": 1752660706992,
     "user": {
      "displayName": "RNG Gesus",
      "userId": "12959870546117851803"
     },
     "user_tz": -180
    },
    "id": "2d272KtX9l3r",
    "outputId": "56ff3e1e-077d-4bef-a9b8-c1baba36a15b"
   },
   "outputs": [
    {
     "name": "stdout",
     "output_type": "stream",
     "text": [
      "Value('float64')\n",
      "<class 'torch.Tensor'>\n"
     ]
    }
   ],
   "source": [
    "print(tokenized['train'].features['label'])  # should show int64\n",
    "print(type(tokenized['train'][0]['label']))  # should be <class 'int'>"
   ]
  },
  {
   "cell_type": "markdown",
   "metadata": {
    "id": "degvTDwonAUq"
   },
   "source": [
    "**Final Training Execution & Performance Visualization 📈**\n",
    "----"
   ]
  },
  {
   "cell_type": "code",
   "execution_count": null,
   "metadata": {
    "executionInfo": {
     "elapsed": 11151762,
     "status": "ok",
     "timestamp": 1752671877379,
     "user": {
      "displayName": "RNG Gesus",
      "userId": "12959870546117851803"
     },
     "user_tz": -180
    },
    "id": "y9ECOwkM4y8a",
    "outputId": "6d3b440c-1e7b-44d3-d4ac-2976d8feedc3"
   },
   "outputs": [
    {
     "name": "stdout",
     "output_type": "stream",
     "text": [
      " Training Configuration:\n",
      "  - Epochs: 20\n",
      "  - Device: cuda:0\n",
      "  - Batch size: 32\n",
      "  - Learning rate: 2e-05\n",
      "\n",
      " Starting enhanced training with progress tracking...\n",
      " Starting training for 20 epochs...\n",
      "==================================================\n",
      "\n",
      " Epoch 1/20\n",
      "------------------------------\n"
     ]
    },
    {
     "name": "stderr",
     "output_type": "stream",
     "text": []
    },
    {
     "name": "stdout",
     "output_type": "stream",
     "text": [
      "  Train      | Loss: 0.0559\n"
     ]
    },
    {
     "name": "stderr",
     "output_type": "stream",
     "text": []
    },
    {
     "name": "stdout",
     "output_type": "stream",
     "text": [
      " Validation | Loss: 0.0506 | MSE: 0.0506\n",
      " New best validation MSE: 0.0506\n",
      "\n",
      " Epoch 2/20\n",
      "------------------------------\n"
     ]
    },
    {
     "name": "stderr",
     "output_type": "stream",
     "text": []
    },
    {
     "name": "stdout",
     "output_type": "stream",
     "text": [
      "  Train      | Loss: 0.0514\n"
     ]
    },
    {
     "name": "stderr",
     "output_type": "stream",
     "text": []
    },
    {
     "name": "stdout",
     "output_type": "stream",
     "text": [
      " Validation | Loss: 0.0496 | MSE: 0.0496\n",
      " New best validation MSE: 0.0496\n",
      "\n",
      " Epoch 3/20\n",
      "------------------------------\n"
     ]
    },
    {
     "name": "stderr",
     "output_type": "stream",
     "text": []
    },
    {
     "name": "stdout",
     "output_type": "stream",
     "text": [
      "  Train      | Loss: 0.0503\n"
     ]
    },
    {
     "name": "stderr",
     "output_type": "stream",
     "text": []
    },
    {
     "name": "stdout",
     "output_type": "stream",
     "text": [
      " Validation | Loss: 0.0496 | MSE: 0.0496\n",
      "\n",
      " Epoch 4/20\n",
      "------------------------------\n"
     ]
    },
    {
     "name": "stderr",
     "output_type": "stream",
     "text": []
    },
    {
     "name": "stdout",
     "output_type": "stream",
     "text": [
      "  Train      | Loss: 0.0499\n"
     ]
    },
    {
     "name": "stderr",
     "output_type": "stream",
     "text": []
    },
    {
     "name": "stdout",
     "output_type": "stream",
     "text": [
      " Validation | Loss: 0.0494 | MSE: 0.0494\n",
      " New best validation MSE: 0.0494\n",
      "\n",
      " Epoch 5/20\n",
      "------------------------------\n"
     ]
    },
    {
     "name": "stderr",
     "output_type": "stream",
     "text": []
    },
    {
     "name": "stdout",
     "output_type": "stream",
     "text": [
      "  Train      | Loss: 0.0493\n"
     ]
    },
    {
     "name": "stderr",
     "output_type": "stream",
     "text": []
    },
    {
     "name": "stdout",
     "output_type": "stream",
     "text": [
      " Validation | Loss: 0.0486 | MSE: 0.0486\n",
      " New best validation MSE: 0.0486\n",
      "\n",
      " Epoch 6/20\n",
      "------------------------------\n"
     ]
    },
    {
     "name": "stderr",
     "output_type": "stream",
     "text": []
    },
    {
     "name": "stdout",
     "output_type": "stream",
     "text": [
      "  Train      | Loss: 0.0489\n"
     ]
    },
    {
     "name": "stderr",
     "output_type": "stream",
     "text": []
    },
    {
     "name": "stdout",
     "output_type": "stream",
     "text": [
      " Validation | Loss: 0.0484 | MSE: 0.0484\n",
      " New best validation MSE: 0.0484\n",
      "\n",
      " Epoch 7/20\n",
      "------------------------------\n"
     ]
    },
    {
     "name": "stderr",
     "output_type": "stream",
     "text": []
    },
    {
     "name": "stdout",
     "output_type": "stream",
     "text": [
      "  Train      | Loss: 0.0486\n"
     ]
    },
    {
     "name": "stderr",
     "output_type": "stream",
     "text": []
    },
    {
     "name": "stdout",
     "output_type": "stream",
     "text": [
      " Validation | Loss: 0.0485 | MSE: 0.0485\n",
      "\n",
      " Epoch 8/20\n",
      "------------------------------\n"
     ]
    },
    {
     "name": "stderr",
     "output_type": "stream",
     "text": []
    },
    {
     "name": "stdout",
     "output_type": "stream",
     "text": [
      "  Train      | Loss: 0.0481\n"
     ]
    },
    {
     "name": "stderr",
     "output_type": "stream",
     "text": []
    },
    {
     "name": "stdout",
     "output_type": "stream",
     "text": [
      " Validation | Loss: 0.0487 | MSE: 0.0487\n",
      "\n",
      " Epoch 9/20\n",
      "------------------------------\n"
     ]
    },
    {
     "name": "stderr",
     "output_type": "stream",
     "text": []
    },
    {
     "name": "stdout",
     "output_type": "stream",
     "text": [
      "  Train      | Loss: 0.0478\n"
     ]
    },
    {
     "name": "stderr",
     "output_type": "stream",
     "text": []
    },
    {
     "name": "stdout",
     "output_type": "stream",
     "text": [
      " Validation | Loss: 0.0489 | MSE: 0.0489\n",
      "\n",
      " Epoch 10/20\n",
      "------------------------------\n"
     ]
    },
    {
     "name": "stderr",
     "output_type": "stream",
     "text": []
    },
    {
     "name": "stdout",
     "output_type": "stream",
     "text": [
      "  Train      | Loss: 0.0477\n"
     ]
    },
    {
     "name": "stderr",
     "output_type": "stream",
     "text": []
    },
    {
     "name": "stdout",
     "output_type": "stream",
     "text": [
      " Validation | Loss: 0.0490 | MSE: 0.0490\n",
      "\n",
      " Epoch 11/20\n",
      "------------------------------\n"
     ]
    },
    {
     "name": "stderr",
     "output_type": "stream",
     "text": []
    },
    {
     "name": "stdout",
     "output_type": "stream",
     "text": [
      "  Train      | Loss: 0.0474\n"
     ]
    },
    {
     "name": "stderr",
     "output_type": "stream",
     "text": []
    },
    {
     "name": "stdout",
     "output_type": "stream",
     "text": [
      " Validation | Loss: 0.0490 | MSE: 0.0490\n",
      "\n",
      " Epoch 12/20\n",
      "------------------------------\n"
     ]
    },
    {
     "name": "stderr",
     "output_type": "stream",
     "text": []
    },
    {
     "name": "stdout",
     "output_type": "stream",
     "text": [
      "  Train      | Loss: 0.0471\n"
     ]
    },
    {
     "name": "stderr",
     "output_type": "stream",
     "text": []
    },
    {
     "name": "stdout",
     "output_type": "stream",
     "text": [
      " Validation | Loss: 0.0485 | MSE: 0.0485\n",
      "\n",
      " Epoch 13/20\n",
      "------------------------------\n"
     ]
    },
    {
     "name": "stderr",
     "output_type": "stream",
     "text": []
    },
    {
     "name": "stdout",
     "output_type": "stream",
     "text": [
      "  Train      | Loss: 0.0468\n"
     ]
    },
    {
     "name": "stderr",
     "output_type": "stream",
     "text": []
    },
    {
     "name": "stdout",
     "output_type": "stream",
     "text": [
      " Validation | Loss: 0.0491 | MSE: 0.0491\n",
      "\n",
      " Epoch 14/20\n",
      "------------------------------\n"
     ]
    },
    {
     "name": "stderr",
     "output_type": "stream",
     "text": []
    },
    {
     "name": "stdout",
     "output_type": "stream",
     "text": [
      "  Train      | Loss: 0.0469\n"
     ]
    },
    {
     "name": "stderr",
     "output_type": "stream",
     "text": []
    },
    {
     "name": "stdout",
     "output_type": "stream",
     "text": [
      " Validation | Loss: 0.0498 | MSE: 0.0498\n",
      "\n",
      " Epoch 15/20\n",
      "------------------------------\n"
     ]
    },
    {
     "name": "stderr",
     "output_type": "stream",
     "text": []
    },
    {
     "name": "stdout",
     "output_type": "stream",
     "text": [
      "  Train      | Loss: 0.0467\n"
     ]
    },
    {
     "name": "stderr",
     "output_type": "stream",
     "text": []
    },
    {
     "name": "stdout",
     "output_type": "stream",
     "text": [
      " Validation | Loss: 0.0486 | MSE: 0.0486\n",
      "\n",
      " Epoch 16/20\n",
      "------------------------------\n"
     ]
    },
    {
     "name": "stderr",
     "output_type": "stream",
     "text": []
    },
    {
     "name": "stdout",
     "output_type": "stream",
     "text": [
      "  Train      | Loss: 0.0466\n"
     ]
    },
    {
     "name": "stderr",
     "output_type": "stream",
     "text": []
    },
    {
     "name": "stdout",
     "output_type": "stream",
     "text": [
      " Validation | Loss: 0.0485 | MSE: 0.0485\n",
      "\n",
      " Epoch 17/20\n",
      "------------------------------\n"
     ]
    },
    {
     "name": "stderr",
     "output_type": "stream",
     "text": []
    },
    {
     "name": "stdout",
     "output_type": "stream",
     "text": [
      "  Train      | Loss: 0.0464\n"
     ]
    },
    {
     "name": "stderr",
     "output_type": "stream",
     "text": []
    },
    {
     "name": "stdout",
     "output_type": "stream",
     "text": [
      " Validation | Loss: 0.0483 | MSE: 0.0483\n",
      " New best validation MSE: 0.0483\n",
      "\n",
      " Epoch 18/20\n",
      "------------------------------\n"
     ]
    },
    {
     "name": "stderr",
     "output_type": "stream",
     "text": []
    },
    {
     "name": "stdout",
     "output_type": "stream",
     "text": [
      "  Train      | Loss: 0.0460\n"
     ]
    },
    {
     "name": "stderr",
     "output_type": "stream",
     "text": []
    },
    {
     "name": "stdout",
     "output_type": "stream",
     "text": [
      " Validation | Loss: 0.0483 | MSE: 0.0483\n",
      " New best validation MSE: 0.0483\n",
      "\n",
      " Epoch 19/20\n",
      "------------------------------\n"
     ]
    },
    {
     "name": "stderr",
     "output_type": "stream",
     "text": []
    },
    {
     "name": "stdout",
     "output_type": "stream",
     "text": [
      "  Train      | Loss: 0.0459\n"
     ]
    },
    {
     "name": "stderr",
     "output_type": "stream",
     "text": []
    },
    {
     "name": "stdout",
     "output_type": "stream",
     "text": [
      " Validation | Loss: 0.0483 | MSE: 0.0483\n",
      "\n",
      " Epoch 20/20\n",
      "------------------------------\n"
     ]
    },
    {
     "name": "stderr",
     "output_type": "stream",
     "text": []
    },
    {
     "name": "stdout",
     "output_type": "stream",
     "text": [
      "  Train      | Loss: 0.0460\n"
     ]
    },
    {
     "name": "stderr",
     "output_type": "stream",
     "text": []
    },
    {
     "name": "stdout",
     "output_type": "stream",
     "text": [
      " Validation | Loss: 0.0489 | MSE: 0.0489\n",
      "\n",
      " Training complete in 185m 51s\n",
      " Best lyric-level validation MSE: 0.0483\n",
      " Training + Validation completed successfully!\n",
      " Final Training Loss: 0.0460\n",
      " Final Validation Loss: 0.0489\n",
      " Final Validation MSE: 0.0489\n",
      " Best Validation Loss: 0.0483 (Epoch 18)\n",
      " Best Validation MSE: 0.0483 (Epoch 18)\n"
     ]
    },
    {
     "name": "stderr",
     "output_type": "stream",
     "text": [
      "/tmp/ipython-input-28-81315017.py:56: UserWarning: color is redundantly defined by the 'color' keyword argument and the fmt string \"g-o\" (-> color='g'). The keyword argument will take precedence.\n",
      "  ax2.plot(epochs, val_mse, 'g-o', label='Validation MSE', linewidth=2, markersize=4, color='green')\n"
     ]
    },
    {
     "data": {
      "image/png": "[encoded data removed]",
      "text/plain": [
       "<Figure size 1500x600 with 2 Axes>"
      ]
     },
     "metadata": {},
     "output_type": "display_data"
    }
   ],
   "source": [
    "#training dont run unless need\n",
    "# Move model to device\n",
    "model = model.to(device)\n",
    "\n",
    "# Training configuration\n",
    "num_epochs = 20\n",
    "\n",
    "print(\" Training Configuration:\")\n",
    "print(f\"  - Epochs: {num_epochs}\")\n",
    "print(f\"  - Device: {device}\")\n",
    "print(f\"  - Batch size: {next(iter(dataloaders['train']))['input_ids'].shape[0]}\")\n",
    "print(f\"  - Learning rate: {optimizer.param_groups[0]['lr']}\")\n",
    "\n",
    "# Optional: Reduce batch size if memory issues\n",
    "# Uncomment the lines below if you encounter CUDA out of memory errors\n",
    "\"\"\"\n",
    "print(\"  Reducing batch size due to memory constraints...\")\n",
    "batch_size = 4  # Reduce from 8 to 4\n",
    "dataloaders = {\n",
    "    'train': DataLoader(dataset['train'], batch_size=batch_size, shuffle=True),\n",
    "    'val': DataLoader(dataset['validation'], batch_size=batch_size)\n",
    "}\n",
    "\"\"\"\n",
    "\n",
    "# Start training with enhanced function\n",
    "print(\"\\n Starting enhanced training with progress tracking...\")\n",
    "model, history = train_model_with_progress(\n",
    "    model=model,\n",
    "    dataloaders=dataloaders,\n",
    "    criterion=criterion,\n",
    "    optimizer=optimizer,\n",
    "    num_epochs=num_epochs,\n",
    "    device=device\n",
    ")\n",
    "\n",
    "print(\" Training + Validation completed successfully!\")\n",
    "\n",
    "train_losses = history['train_loss']\n",
    "val_losses = history['val_loss']\n",
    "val_mse = history['val_mse']\n",
    "epochs = list(range(1, len(train_losses) + 1))\n",
    "\n",
    "# Create subplots for both loss and MSE\n",
    "fig, (ax1, ax2) = plt.subplots(1, 2, figsize=(15, 6))\n",
    "\n",
    "# Plot 1: Training and Validation Loss\n",
    "ax1.plot(epochs, train_losses, 'b-o', label='Training Loss', linewidth=2, markersize=4)\n",
    "ax1.plot(epochs, val_losses, 'r-o', label='Validation Loss', linewidth=2, markersize=4)\n",
    "ax1.set_xlabel('Epoch', fontsize=12)\n",
    "ax1.set_ylabel('Loss', fontsize=12)\n",
    "ax1.set_title('Training and Validation Loss over Epochs', fontsize=14, fontweight='bold')\n",
    "ax1.legend(fontsize=11)\n",
    "ax1.grid(True, alpha=0.3)\n",
    "\n",
    "# Plot 2: Validation MSE\n",
    "ax2.plot(epochs, val_mse, 'g-o', label='Validation MSE', linewidth=2, markersize=4, color='green')\n",
    "ax2.set_xlabel('Epoch', fontsize=12)\n",
    "ax2.set_ylabel('MSE', fontsize=12)\n",
    "ax2.set_title('Validation MSE over Epochs', fontsize=14, fontweight='bold')\n",
    "ax2.legend(fontsize=11)\n",
    "ax2.grid(True, alpha=0.3)\n",
    "\n",
    "plt.tight_layout()\n",
    "\n",
    "# Print summary statistics\n",
    "print(f\" Final Training Loss: {train_losses[-1]:.4f}\")\n",
    "print(f\" Final Validation Loss: {val_losses[-1]:.4f}\")\n",
    "print(f\" Final Validation MSE: {val_mse[-1]:.4f}\")\n",
    "print(f\" Best Validation Loss: {min(val_losses):.4f} (Epoch {val_losses.index(min(val_losses)) + 1})\")\n",
    "print(f\" Best Validation MSE: {min(val_mse):.4f} (Epoch {val_mse.index(min(val_mse)) + 1})\")\n",
    "\n",
    "plt.show()"
   ]
  },
  {
   "cell_type": "code",
   "execution_count": null,
   "metadata": {
    "executionInfo": {
     "elapsed": 1315,
     "status": "ok",
     "timestamp": 1752671889314,
     "user": {
      "displayName": "RNG Gesus",
      "userId": "12959870546117851803"
     },
     "user_tz": -180
    },
    "id": "CVfPQtMxzAXS",
    "outputId": "8491cfe9-a2be-4e6f-8ada-38892a11ea2f"
   },
   "outputs": [
    {
     "name": "stdout",
     "output_type": "stream",
     "text": [
      " Model saved to: /content/drive/MyDrive/Deep_Learning/project/saved_models/\n"
     ]
    }
   ],
   "source": [
    "# Save to your existing project structure\n",
    "project_path = \"/content/drive/MyDrive/Deep_Learning/project/\"\n",
    "model_save_path = f\"{project_path}saved_models/\"\n",
    "\n",
    "# Create the saved_models directory\n",
    "import os\n",
    "os.makedirs(model_save_path, exist_ok=True)\n",
    "\n",
    "# Save your trained model there\n",
    "torch.save(model.state_dict(), f\"{model_save_path}lora_bert_emotion_model.pth\")\n",
    "tokenizer.save_pretrained(f\"{model_save_path}lora_bert_emotion_tokenizer\")\n",
    "\n",
    "print(f\" Model saved to: {model_save_path}\")\n",
    "\n"
   ]
  },
  {
   "cell_type": "markdown",
   "metadata": {
    "id": "6CNnw12cndiM"
   },
   "source": [
    "Model & Tokenized Data Reload for Inference\n",
    "---"
   ]
  },
  {
   "cell_type": "code",
   "execution_count": null,
   "metadata": {
    "id": "OPD0bBH1jPzm"
   },
   "outputs": [],
   "source": [
    "'''\n",
    "# RECREATE THE EXACT SAME MODEL STRUCTURE AS WHEN YOU SAVED IT\n",
    "print(\" Recreating model with LoRA structure...\")\n",
    "\n",
    "# Step 1: Create base model\n",
    "model = BertForRegression()\n",
    "\n",
    "# Step 2: Apply LoRA with the SAME parameters you used during training\n",
    "rank = 4\n",
    "alpha = 8\n",
    "start_layer = 9  # Use the same parameters as training\n",
    "\n",
    "apply_lora_to_bert(model, rank, alpha, start_layer, use_dora=False)\n",
    "\n",
    "# Step 3: Set the same parameter freezing\n",
    "model.requires_grad_(False)\n",
    "target_layers = [9, 10, 11]  # Same as training\n",
    "for name, param in model.named_parameters():\n",
    "    if any(f\"bert.encoder.layer.{i}.attention.self\" in name for i in target_layers) and any(\n",
    "        k in name for k in ['A', 'B']\n",
    "    ):\n",
    "        param.requires_grad = True\n",
    "    elif \"classifier\" in name:\n",
    "        param.requires_grad = True\n",
    "\n",
    "print(\" Model structure recreated with LoRA\")\n",
    "\n",
    "# Step 4: NOW load the saved weights\n",
    "\n",
    "model_path = \"/content/drive/MyDrive/Deep_Learning/project/saved_models\"\n",
    "model.load_state_dict(torch.load(f\"{model_path}lora_bert_emotion_model.pth\"))\n",
    "model.eval()\n",
    "'''\n",
    "model_path = \"/content/drive/MyDrive/Deep_Learning/project/saved_models\"\n",
    "\n",
    "# Load data\n",
    "from datasets import load_from_disk\n",
    "#tokenized = load_from_disk(f\"{data_path}/tokenized_dataset_\")\n",
    "tokenized = load_from_disk(f\"{data_path}/tokenized_dataset_\")\n",
    "\n",
    "tokenized['test'].set_format(\n",
    "    type='torch',\n",
    "    columns=['input_ids', 'attention_mask', 'label', 'original_index']\n",
    ")\n",
    "\n",
    "# Load model and apply LoRA again if needed\n",
    "model = BertForRegression()\n",
    "# Apply LoRA with the SAME parameters you used during training\n",
    "apply_lora_to_bert(model, rank=rank, alpha=alpha, use_dora=False, start_layer=9)\n",
    "model.load_state_dict(torch.load(f\"{model_path}/lora_bert_emotion_model.pth\"))\n",
    "model = model.to(device)\n",
    "\n"
   ]
  },
  {
   "cell_type": "markdown",
   "metadata": {
    "id": "_bUPLKKrnniY"
   },
   "source": [
    "**Final Model Evaluation on Test Set**\n",
    "---"
   ]
  },
  {
   "cell_type": "code",
   "execution_count": null,
   "metadata": {
    "executionInfo": {
     "elapsed": 47197,
     "status": "ok",
     "timestamp": 1752942839609,
     "user": {
      "displayName": "RNG Gesus",
      "userId": "12959870546117851803"
     },
     "user_tz": -180
    },
    "id": "3O4IPRfWlT6N",
    "outputId": "e18b39bf-ed86-4cb3-c34d-5ddebd91f67d"
   },
   "outputs": [
    {
     "name": "stderr",
     "output_type": "stream",
     "text": []
    },
    {
     "name": "stdout",
     "output_type": "stream",
     "text": [
      "\n",
      "📏 Test Lyric-Level MSE: 0.0486\n"
     ]
    }
   ],
   "source": [
    "# Testing procss\n",
    "\n",
    "def collect_test_outputs(model, dataloader, device):\n",
    "    model.eval()\n",
    "    all_preds, all_labels, all_origins = [], [], []\n",
    "\n",
    "    with torch.no_grad():\n",
    "        for batch in tqdm(dataloader, desc=\"🧪 Testing\", leave=False):\n",
    "            input_ids = batch['input_ids'].to(device)\n",
    "            attention_mask = batch['attention_mask'].to(device)\n",
    "            labels = batch['label'].to(device).float()\n",
    "            origins = batch['original_index']\n",
    "\n",
    "            outputs = model(input_ids=input_ids, attention_mask=attention_mask)\n",
    "            logits = outputs if not isinstance(outputs, torch.Tensor) else outputs\n",
    "            logits = logits.view(-1)\n",
    "            labels = labels.view(-1)\n",
    "\n",
    "            all_preds.append(logits.cpu())\n",
    "            all_labels.append(labels.cpu())\n",
    "            all_origins.extend(origins)\n",
    "\n",
    "    return all_preds, all_labels, all_origins\n",
    "\n",
    "\n",
    "test_loader = DataLoader(tokenized['test'], batch_size=batch_size)\n",
    "test_preds, test_labels, test_origins = collect_test_outputs(model, test_loader, device)\n",
    "test_mse = evaluate_by_lyric(test_preds, test_labels, test_origins)\n",
    "\n",
    "print(f\"\\n📏 Test Lyric-Level MSE: {test_mse:.4f}\")"
   ]
  },
  {
   "cell_type": "markdown",
   "metadata": {
    "id": "Xj6dk3lrn6Ky"
   },
   "source": [
    "**Inspecting Random Test Lyrics and Model Predictions 🎵🤖**\n",
    "----"
   ]
  },
  {
   "cell_type": "code",
   "execution_count": null,
   "metadata": {
    "executionInfo": {
     "elapsed": 531,
     "status": "ok",
     "timestamp": 1752327368509,
     "user": {
      "displayName": "Nir Voloshin",
      "userId": "14480127574732435947"
     },
     "user_tz": -180
    },
    "id": "NIjODak4nC1c",
    "outputId": "9db03c79-f59d-4d1d-c365-c5788dcc23ae"
   },
   "outputs": [
    {
     "name": "stdout",
     "output_type": "stream",
     "text": [
      "\n",
      "🎵 Lyric (original_index=1913):\n",
      "i wish i knew someone like you could love me i wish i knew you place no one above me did i mistake this for a real romance? i wish i knew, but only you can answer. if you don ' t care, why let me hop [ e and pray so don ' t lead me on, if i ' m a fool just say so, should i keep dreaming on, or just forget you? what shall i do, i wish i knew\n",
      "🔢 Prediction: 0.3496 | 🎯 Label: 0.8160\n",
      "\n",
      "🎵 Lyric (original_index=678):\n",
      "your mercy found me upon the broken road and lifted me beyond my failing, into your glory my sin and shame dissolved and now forever yours i? ll stand in love never to end to call you more than lord glorious friend so i throw my life upon all you are? cause i know you gave it all for me and when all else fades, my soul will dance with you where the love lasts forever and forever i will sing lord forever i will sing of how you gave your life away just to save me, lord you saved me with you, where the love lasts forever\n",
      "🔢 Prediction: 0.2641 | 🎯 Label: 0.0921\n",
      "\n",
      "🎵 Lyric (original_index=5278):\n",
      "listen to what i tell you, it really don ' t matter what you may be what your name is, what your game is or what you mean to society if your life is missing that someone who ' s really gonna care makes you think man, no so big man everybody ' s the same everywhere cause we all fall down we all fall down we all fall down if we don ' t get our loving oh, what good does it do you, to be rich if your heart is poor you can smile, yeah, for a while, yeah, but you know there ' s something more come, don ' t try to hide now, we all know who we really are after all we ' re only people we can only go so far then we all fall down we all fall down we all fall down if we get our loving we all fall down we all fall down we all fall down if we don ' t get our loving we all fall down we all fall down\n",
      "🔢 Prediction: 0.5446 | 🎯 Label: 0.8120\n"
     ]
    }
   ],
   "source": [
    "# Looking at predictions\n",
    "import random\n",
    "import torch\n",
    "\n",
    "# Load tokenizer\n",
    "from transformers import BertTokenizerFast\n",
    "tokenizer = BertTokenizerFast.from_pretrained('bert-base-uncased')\n",
    "\n",
    "\n",
    "\n",
    "def show_random_lyrics_with_predictions(model, tokenizer, dataset, device, N=3):\n",
    "    model.eval()\n",
    "    indices = random.sample(range(len(dataset)), N)\n",
    "\n",
    "    for idx in indices:\n",
    "        example = dataset[idx]\n",
    "        input_ids = example['input_ids'].unsqueeze(0).to(device)\n",
    "        attention_mask = example['attention_mask'].unsqueeze(0).to(device)\n",
    "        label = example['label']\n",
    "        origin = example['original_index']\n",
    "\n",
    "        with torch.no_grad():\n",
    "            output = model(input_ids=input_ids, attention_mask=attention_mask)\n",
    "            pred = output.view(-1).item()\n",
    "\n",
    "        decoded = tokenizer.decode(example['input_ids'], skip_special_tokens=True)\n",
    "\n",
    "        print(f\"\\n🎵 Lyric (original_index={origin}):\")\n",
    "        print(decoded.strip())\n",
    "        print(f\"🔢 Prediction: {pred:.4f} | 🎯 Label: {label:.4f}\")\n",
    "\n",
    "show_random_lyrics_with_predictions(\n",
    "    model=model,\n",
    "    tokenizer=tokenizer,\n",
    "    dataset=tokenized['test'],\n",
    "    device=device,\n",
    "    N=3  # or any number of examples you want to view\n",
    ")"
   ]
  }
 ],
 "metadata": {
  "accelerator": "GPU",
  "colab": {
   "gpuType": "T4",
   "provenance": []
  },
  "kernelspec": {
   "display_name": "Python 3",
   "name": "python3"
  },
  "language_info": {
   "name": "python"
  }
 },
 "nbformat": 4,
 "nbformat_minor": 0
}
